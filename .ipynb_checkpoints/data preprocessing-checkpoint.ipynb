{
 "cells": [
  {
   "cell_type": "code",
   "execution_count": 1,
   "metadata": {},
   "outputs": [],
   "source": [
    "import numpy as np\n",
    "import pandas as pd \n",
    "import os\n",
    "import sklearn "
   ]
  },
  {
   "cell_type": "code",
   "execution_count": 2,
   "metadata": {},
   "outputs": [
    {
     "name": "stdout",
     "output_type": "stream",
     "text": [
      "['.DS_Store', 'test.csv', 'test_raw.csv', 'train_raw.csv', 'train.csv', 'codebook_compact.txt', 'codebook_long.txt', 'sample_submission.csv']\n"
     ]
    }
   ],
   "source": [
    "print(os.listdir(\"../stat441 project/Resources/\"))"
   ]
  },
  {
   "cell_type": "code",
   "execution_count": 3,
   "metadata": {},
   "outputs": [],
   "source": [
    "path = \"../stat441 project/Resources/\""
   ]
  },
  {
   "cell_type": "code",
   "execution_count": 4,
   "metadata": {},
   "outputs": [
    {
     "name": "stderr",
     "output_type": "stream",
     "text": [
      "/opt/anaconda3/lib/python3.7/site-packages/IPython/core/interactiveshell.py:3058: DtypeWarning: Columns (3,4,6,10,12,18,24,35,56,57,65,85,86,87,88,89,98,99,100,105,124,125,126,127,128,130,131,133,166,171,172,192,193,194,195,204,205,206,207,228,229,230,240,256,257,258,259,260,261,262) have mixed types. Specify dtype option on import or set low_memory=False.\n",
      "  interactivity=interactivity, compiler=compiler, result=result)\n",
      "/opt/anaconda3/lib/python3.7/site-packages/IPython/core/interactiveshell.py:3058: DtypeWarning: Columns (3,6,10,12,21,24,35,85,87,88,89,100,124,126,127,128,130,131,133,166,172,177,193,194,195,205,206,207,220,222,228,229,230,240,257,258,260,261,262) have mixed types. Specify dtype option on import or set low_memory=False.\n",
      "  interactivity=interactivity, compiler=compiler, result=result)\n"
     ]
    }
   ],
   "source": [
    "train_df = pd.read_csv(path + \"train.csv\")\n",
    "test_df = pd.read_csv(path+\"test.csv\")"
   ]
  },
  {
   "cell_type": "code",
   "execution_count": 5,
   "metadata": {},
   "outputs": [
    {
     "name": "stdout",
     "output_type": "stream",
     "text": [
      "size of train_df data (30080, 273)\n",
      "size of test_df data (9245, 272)\n"
     ]
    }
   ],
   "source": [
    "print('size of train_df data',train_df.shape) \n",
    "print('size of test_df data',test_df.shape) "
   ]
  },
  {
   "cell_type": "code",
   "execution_count": 6,
   "metadata": {},
   "outputs": [
    {
     "data": {
      "text/plain": [
       "id            int64\n",
       "v1           object\n",
       "v2           object\n",
       "v3           object\n",
       "v4           object\n",
       "              ...  \n",
       "v268         object\n",
       "v269         object\n",
       "v270         object\n",
       "cntry        object\n",
       "satisfied     int64\n",
       "Length: 273, dtype: object"
      ]
     },
     "execution_count": 6,
     "metadata": {},
     "output_type": "execute_result"
    }
   ],
   "source": [
    "train_df.dtypes"
   ]
  },
  {
   "cell_type": "code",
   "execution_count": 7,
   "metadata": {},
   "outputs": [
    {
     "name": "stderr",
     "output_type": "stream",
     "text": [
      "/opt/anaconda3/lib/python3.7/site-packages/ipykernel_launcher.py:4: FutureWarning: Sorting because non-concatenation axis is not aligned. A future version\n",
      "of pandas will change to not sort by default.\n",
      "\n",
      "To accept the future behavior, pass 'sort=False'.\n",
      "\n",
      "To retain the current behavior and silence the warning, pass 'sort=True'.\n",
      "\n",
      "  after removing the cwd from sys.path.\n"
     ]
    },
    {
     "data": {
      "text/plain": [
       "(39325, 274)"
      ]
     },
     "execution_count": 7,
     "metadata": {},
     "output_type": "execute_result"
    }
   ],
   "source": [
    "#Combine into data:\n",
    "train_df['source']= 'train'\n",
    "test_df['source'] = 'test'\n",
    "data=pd.concat([train_df, test_df],ignore_index=True)\n",
    "data.shape"
   ]
  },
  {
   "cell_type": "code",
   "execution_count": 8,
   "metadata": {},
   "outputs": [
    {
     "data": {
      "text/plain": [
       "cntry            0\n",
       "id               0\n",
       "satisfied     9245\n",
       "source           0\n",
       "v1               0\n",
       "             ...  \n",
       "v95           2097\n",
       "v96           6972\n",
       "v97          12820\n",
       "v98              0\n",
       "v99              0\n",
       "Length: 274, dtype: int64"
      ]
     },
     "execution_count": 8,
     "metadata": {},
     "output_type": "execute_result"
    }
   ],
   "source": [
    "data.apply(lambda x: sum(x.isnull()))"
   ]
  },
  {
   "cell_type": "code",
   "execution_count": 9,
   "metadata": {},
   "outputs": [
    {
     "data": {
      "text/html": [
       "<div>\n",
       "<style scoped>\n",
       "    .dataframe tbody tr th:only-of-type {\n",
       "        vertical-align: middle;\n",
       "    }\n",
       "\n",
       "    .dataframe tbody tr th {\n",
       "        vertical-align: top;\n",
       "    }\n",
       "\n",
       "    .dataframe thead th {\n",
       "        text-align: right;\n",
       "    }\n",
       "</style>\n",
       "<table border=\"1\" class=\"dataframe\">\n",
       "  <thead>\n",
       "    <tr style=\"text-align: right;\">\n",
       "      <th></th>\n",
       "      <th>count</th>\n",
       "      <th>ratio</th>\n",
       "    </tr>\n",
       "  </thead>\n",
       "  <tbody>\n",
       "    <tr>\n",
       "      <td>v123</td>\n",
       "      <td>27692</td>\n",
       "      <td>0.920612</td>\n",
       "    </tr>\n",
       "    <tr>\n",
       "      <td>v195</td>\n",
       "      <td>26907</td>\n",
       "      <td>0.894515</td>\n",
       "    </tr>\n",
       "    <tr>\n",
       "      <td>v89</td>\n",
       "      <td>26907</td>\n",
       "      <td>0.894515</td>\n",
       "    </tr>\n",
       "    <tr>\n",
       "      <td>v207</td>\n",
       "      <td>26907</td>\n",
       "      <td>0.894515</td>\n",
       "    </tr>\n",
       "    <tr>\n",
       "      <td>v262</td>\n",
       "      <td>26907</td>\n",
       "      <td>0.894515</td>\n",
       "    </tr>\n",
       "    <tr>\n",
       "      <td>v206</td>\n",
       "      <td>16037</td>\n",
       "      <td>0.533145</td>\n",
       "    </tr>\n",
       "    <tr>\n",
       "      <td>v261</td>\n",
       "      <td>16037</td>\n",
       "      <td>0.533145</td>\n",
       "    </tr>\n",
       "    <tr>\n",
       "      <td>v194</td>\n",
       "      <td>16037</td>\n",
       "      <td>0.533145</td>\n",
       "    </tr>\n",
       "    <tr>\n",
       "      <td>v88</td>\n",
       "      <td>16037</td>\n",
       "      <td>0.533145</td>\n",
       "    </tr>\n",
       "    <tr>\n",
       "      <td>v205</td>\n",
       "      <td>13200</td>\n",
       "      <td>0.438830</td>\n",
       "    </tr>\n",
       "    <tr>\n",
       "      <td>v87</td>\n",
       "      <td>13200</td>\n",
       "      <td>0.438830</td>\n",
       "    </tr>\n",
       "    <tr>\n",
       "      <td>v260</td>\n",
       "      <td>13200</td>\n",
       "      <td>0.438830</td>\n",
       "    </tr>\n",
       "    <tr>\n",
       "      <td>v193</td>\n",
       "      <td>13200</td>\n",
       "      <td>0.438830</td>\n",
       "    </tr>\n",
       "    <tr>\n",
       "      <td>v192</td>\n",
       "      <td>11453</td>\n",
       "      <td>0.380751</td>\n",
       "    </tr>\n",
       "    <tr>\n",
       "      <td>v259</td>\n",
       "      <td>11453</td>\n",
       "      <td>0.380751</td>\n",
       "    </tr>\n",
       "    <tr>\n",
       "      <td>v86</td>\n",
       "      <td>11453</td>\n",
       "      <td>0.380751</td>\n",
       "    </tr>\n",
       "    <tr>\n",
       "      <td>v204</td>\n",
       "      <td>11453</td>\n",
       "      <td>0.380751</td>\n",
       "    </tr>\n",
       "    <tr>\n",
       "      <td>v215</td>\n",
       "      <td>10264</td>\n",
       "      <td>0.341223</td>\n",
       "    </tr>\n",
       "    <tr>\n",
       "      <td>v97</td>\n",
       "      <td>10264</td>\n",
       "      <td>0.341223</td>\n",
       "    </tr>\n",
       "    <tr>\n",
       "      <td>v270</td>\n",
       "      <td>10264</td>\n",
       "      <td>0.341223</td>\n",
       "    </tr>\n",
       "  </tbody>\n",
       "</table>\n",
       "</div>"
      ],
      "text/plain": [
       "      count     ratio\n",
       "v123  27692  0.920612\n",
       "v195  26907  0.894515\n",
       "v89   26907  0.894515\n",
       "v207  26907  0.894515\n",
       "v262  26907  0.894515\n",
       "v206  16037  0.533145\n",
       "v261  16037  0.533145\n",
       "v194  16037  0.533145\n",
       "v88   16037  0.533145\n",
       "v205  13200  0.438830\n",
       "v87   13200  0.438830\n",
       "v260  13200  0.438830\n",
       "v193  13200  0.438830\n",
       "v192  11453  0.380751\n",
       "v259  11453  0.380751\n",
       "v86   11453  0.380751\n",
       "v204  11453  0.380751\n",
       "v215  10264  0.341223\n",
       "v97   10264  0.341223\n",
       "v270  10264  0.341223"
      ]
     },
     "execution_count": 9,
     "metadata": {},
     "output_type": "execute_result"
    }
   ],
   "source": [
    "data.replace(['.a','.b','.c','.d'],np.NaN,inplace=True)\n",
    "na_count = train_df.isnull().sum().sort_values(ascending=False)\n",
    "na_rate = na_count/len(train_df)\n",
    "na_data = pd.concat([na_count,na_rate],axis=1,keys=['count','ratio'])\n",
    "na_data.head(20)"
   ]
  },
  {
   "cell_type": "code",
   "execution_count": 10,
   "metadata": {},
   "outputs": [
    {
     "data": {
      "text/plain": [
       "(39325, 269)"
      ]
     },
     "execution_count": 10,
     "metadata": {},
     "output_type": "execute_result"
    }
   ],
   "source": [
    "data = data.drop(na_data[na_data['ratio']>0.8].index,axis=1)\n",
    "data.shape"
   ]
  },
  {
   "cell_type": "code",
   "execution_count": 11,
   "metadata": {},
   "outputs": [],
   "source": [
    "data2 = data.drop(['id','satisfied','source'],axis=1)\n",
    "quantity = [attr for attr in data2.columns if data2.dtypes[attr] != 'object'] \n",
    "quality = [attr for attr in data2.columns if data2.dtypes[attr] == 'object']"
   ]
  },
  {
   "cell_type": "code",
   "execution_count": 12,
   "metadata": {},
   "outputs": [
    {
     "data": {
      "text/plain": [
       "v106       0\n",
       "v107       0\n",
       "v129       0\n",
       "v132    1574\n",
       "v134       0\n",
       "v15        0\n",
       "v16        0\n",
       "v175       0\n",
       "v176       0\n",
       "v185       0\n",
       "v217       0\n",
       "v218       0\n",
       "v244       0\n",
       "v245       0\n",
       "v246       0\n",
       "v247       0\n",
       "v26        0\n",
       "v27        0\n",
       "v28        0\n",
       "v29        0\n",
       "v30        0\n",
       "v31        0\n",
       "v32        0\n",
       "v33        0\n",
       "v34        0\n",
       "v36        0\n",
       "v37        0\n",
       "v38        0\n",
       "v39        0\n",
       "v40        0\n",
       "v41        0\n",
       "v42        0\n",
       "v44        0\n",
       "v45        0\n",
       "v46        0\n",
       "v47        0\n",
       "v48        0\n",
       "v49        0\n",
       "v50        0\n",
       "v51        0\n",
       "v52        0\n",
       "v54        0\n",
       "v55        0\n",
       "dtype: int64"
      ]
     },
     "execution_count": 12,
     "metadata": {},
     "output_type": "execute_result"
    }
   ],
   "source": [
    "data[quantity].isnull().sum()"
   ]
  },
  {
   "cell_type": "code",
   "execution_count": 13,
   "metadata": {},
   "outputs": [],
   "source": [
    "quantity_df= data[quantity]\n",
    "known_v132 = quantity_df[quantity_df.v132.notnull()]\n",
    "unknown_v132 = quantity_df[quantity_df.v132.isnull()]\n",
    "y_v132 = known_v132['v132'] \n",
    "X_v132 = known_v132.drop('v132',axis = 1)"
   ]
  },
  {
   "cell_type": "code",
   "execution_count": 14,
   "metadata": {},
   "outputs": [],
   "source": [
    "from sklearn.ensemble import RandomForestRegressor\n",
    "rfr = RandomForestRegressor(random_state=0, n_estimators=2000,n_jobs=-1) \n",
    "rfr.fit(X_v132,y_v132) \n",
    "predicted_v132 = rfr.predict(unknown_v132.drop('v132',axis=1))\n",
    "data.loc[(data.v132.isnull()),'v132'] = predicted_v132"
   ]
  },
  {
   "cell_type": "code",
   "execution_count": 15,
   "metadata": {},
   "outputs": [
    {
     "name": "stdout",
     "output_type": "stream",
     "text": [
      "['v1', 'v10', 'v100', 'v101', 'v102', 'v103', 'v105', 'v108', 'v109', 'v110', 'v111', 'v112', 'v113', 'v114', 'v115', 'v116', 'v117', 'v118', 'v119', 'v12', 'v120', 'v121', 'v122', 'v124', 'v125', 'v126', 'v127', 'v128', 'v13', 'v130', 'v131', 'v133', 'v135', 'v136', 'v137', 'v138', 'v139', 'v14', 'v140', 'v141', 'v142', 'v143', 'v144', 'v145', 'v146', 'v147', 'v148', 'v149', 'v150', 'v152', 'v159', 'v162', 'v163', 'v165', 'v166', 'v167', 'v171', 'v172', 'v177', 'v178', 'v179', 'v18', 'v180', 'v181', 'v183', 'v184', 'v186', 'v187', 'v189', 'v19', 'v2', 'v21', 'v219', 'v220', 'v221', 'v222', 'v223', 'v224', 'v225', 'v226', 'v227', 'v228', 'v229', 'v230', 'v231', 'v232', 'v233', 'v234', 'v235', 'v236', 'v237', 'v238', 'v239', 'v24', 'v240', 'v242', 'v248', 'v249', 'v253', 'v254', 'v256', 'v257', 'v258', 'v3', 'v35', 'v4', 'v43', 'v53', 'v56', 'v57', 'v6', 'v64', 'v65', 'v7', 'v70', 'v72', 'v73', 'v74', 'v76', 'v77', 'v79', 'v8', 'v80', 'v81', 'v82', 'v83', 'v84', 'v85', 'v9', 'v98', 'v99']\n"
     ]
    }
   ],
   "source": [
    "small_missing = []\n",
    "for c in quality:\n",
    "    percent_missing = data[c].isnull().sum() * 100 / len(data[c])\n",
    "    if percent_missing > 0 and percent_missing < 10:    \n",
    "        small_missing.append(c)\n",
    "print(small_missing) "
   ]
  },
  {
   "cell_type": "code",
   "execution_count": 16,
   "metadata": {},
   "outputs": [],
   "source": [
    "for c in small_missing:\n",
    "    most_frequent = data[c].value_counts().keys()[0]\n",
    "    data[c] = data[c].fillna(most_frequent)"
   ]
  },
  {
   "cell_type": "code",
   "execution_count": 17,
   "metadata": {},
   "outputs": [
    {
     "name": "stdout",
     "output_type": "stream",
     "text": [
      "['v104', 'v11', 'v151', 'v153', 'v156', 'v157', 'v158', 'v160', 'v164', 'v168', 'v169', 'v170', 'v173', 'v174', 'v182', 'v188', 'v190', 'v191', 'v192', 'v193', 'v194', 'v196', 'v197', 'v198', 'v199', 'v200', 'v201', 'v202', 'v203', 'v204', 'v205', 'v206', 'v208', 'v209', 'v210', 'v211', 'v212', 'v213', 'v214', 'v215', 'v216', 'v22', 'v23', 'v241', 'v243', 'v250', 'v251', 'v252', 'v255', 'v259', 'v260', 'v261', 'v263', 'v264', 'v265', 'v266', 'v267', 'v268', 'v269', 'v270', 'v5', 'v58', 'v59', 'v60', 'v61', 'v62', 'v63', 'v66', 'v67', 'v68', 'v69', 'v71', 'v75', 'v86', 'v87', 'v88', 'v90', 'v91', 'v92', 'v93', 'v94', 'v95', 'v96', 'v97']\n"
     ]
    }
   ],
   "source": [
    "large_missing = []\n",
    "for c in quality:\n",
    "    percent_missing = data[c].isnull().sum() * 100 / len(data[c])\n",
    "    if percent_missing == 10 or percent_missing > 10 :    \n",
    "        large_missing.append(c)\n",
    "print(large_missing)"
   ]
  },
  {
   "cell_type": "code",
   "execution_count": 18,
   "metadata": {},
   "outputs": [],
   "source": [
    "for c in large_missing:\n",
    "    data[c] = data[c].fillna(\"MissValue\")"
   ]
  },
  {
   "cell_type": "code",
   "execution_count": 19,
   "metadata": {},
   "outputs": [
    {
     "data": {
      "text/plain": [
       "cntry           0\n",
       "id              0\n",
       "satisfied    9245\n",
       "source          0\n",
       "v1              0\n",
       "             ... \n",
       "v95             0\n",
       "v96             0\n",
       "v97             0\n",
       "v98             0\n",
       "v99             0\n",
       "Length: 269, dtype: int64"
      ]
     },
     "execution_count": 19,
     "metadata": {},
     "output_type": "execute_result"
    }
   ],
   "source": [
    "data.apply(lambda x: sum(x.isnull()))"
   ]
  },
  {
   "cell_type": "code",
   "execution_count": 20,
   "metadata": {},
   "outputs": [],
   "source": [
    "from sklearn.preprocessing import LabelEncoder\n",
    "le = LabelEncoder()\n",
    "for c in quality:\n",
    "    data[c] = le.fit_transform(data[c].astype(str))"
   ]
  },
  {
   "cell_type": "code",
   "execution_count": 21,
   "metadata": {},
   "outputs": [
    {
     "data": {
      "text/html": [
       "<div>\n",
       "<style scoped>\n",
       "    .dataframe tbody tr th:only-of-type {\n",
       "        vertical-align: middle;\n",
       "    }\n",
       "\n",
       "    .dataframe tbody tr th {\n",
       "        vertical-align: top;\n",
       "    }\n",
       "\n",
       "    .dataframe thead th {\n",
       "        text-align: right;\n",
       "    }\n",
       "</style>\n",
       "<table border=\"1\" class=\"dataframe\">\n",
       "  <thead>\n",
       "    <tr style=\"text-align: right;\">\n",
       "      <th></th>\n",
       "      <th>cntry</th>\n",
       "      <th>id</th>\n",
       "      <th>satisfied</th>\n",
       "      <th>source</th>\n",
       "      <th>v1</th>\n",
       "      <th>v10</th>\n",
       "      <th>v100</th>\n",
       "      <th>v101</th>\n",
       "      <th>v102</th>\n",
       "      <th>v103</th>\n",
       "      <th>...</th>\n",
       "      <th>v90</th>\n",
       "      <th>v91</th>\n",
       "      <th>v92</th>\n",
       "      <th>v93</th>\n",
       "      <th>v94</th>\n",
       "      <th>v95</th>\n",
       "      <th>v96</th>\n",
       "      <th>v97</th>\n",
       "      <th>v98</th>\n",
       "      <th>v99</th>\n",
       "    </tr>\n",
       "  </thead>\n",
       "  <tbody>\n",
       "    <tr>\n",
       "      <td>0</td>\n",
       "      <td>0</td>\n",
       "      <td>9948</td>\n",
       "      <td>0.0</td>\n",
       "      <td>train</td>\n",
       "      <td>3</td>\n",
       "      <td>0</td>\n",
       "      <td>0</td>\n",
       "      <td>1</td>\n",
       "      <td>2</td>\n",
       "      <td>3</td>\n",
       "      <td>...</td>\n",
       "      <td>2</td>\n",
       "      <td>2</td>\n",
       "      <td>2</td>\n",
       "      <td>2</td>\n",
       "      <td>2</td>\n",
       "      <td>2</td>\n",
       "      <td>2</td>\n",
       "      <td>2</td>\n",
       "      <td>6</td>\n",
       "      <td>1</td>\n",
       "    </tr>\n",
       "    <tr>\n",
       "      <td>1</td>\n",
       "      <td>0</td>\n",
       "      <td>25601</td>\n",
       "      <td>0.0</td>\n",
       "      <td>train</td>\n",
       "      <td>5</td>\n",
       "      <td>0</td>\n",
       "      <td>0</td>\n",
       "      <td>1</td>\n",
       "      <td>3</td>\n",
       "      <td>4</td>\n",
       "      <td>...</td>\n",
       "      <td>2</td>\n",
       "      <td>2</td>\n",
       "      <td>2</td>\n",
       "      <td>2</td>\n",
       "      <td>2</td>\n",
       "      <td>2</td>\n",
       "      <td>2</td>\n",
       "      <td>2</td>\n",
       "      <td>5</td>\n",
       "      <td>2</td>\n",
       "    </tr>\n",
       "    <tr>\n",
       "      <td>2</td>\n",
       "      <td>0</td>\n",
       "      <td>8592</td>\n",
       "      <td>1.0</td>\n",
       "      <td>train</td>\n",
       "      <td>7</td>\n",
       "      <td>0</td>\n",
       "      <td>8</td>\n",
       "      <td>1</td>\n",
       "      <td>0</td>\n",
       "      <td>0</td>\n",
       "      <td>...</td>\n",
       "      <td>0</td>\n",
       "      <td>1</td>\n",
       "      <td>1</td>\n",
       "      <td>2</td>\n",
       "      <td>2</td>\n",
       "      <td>2</td>\n",
       "      <td>2</td>\n",
       "      <td>2</td>\n",
       "      <td>2</td>\n",
       "      <td>1</td>\n",
       "    </tr>\n",
       "    <tr>\n",
       "      <td>3</td>\n",
       "      <td>0</td>\n",
       "      <td>29593</td>\n",
       "      <td>0.0</td>\n",
       "      <td>train</td>\n",
       "      <td>2</td>\n",
       "      <td>0</td>\n",
       "      <td>0</td>\n",
       "      <td>1</td>\n",
       "      <td>0</td>\n",
       "      <td>0</td>\n",
       "      <td>...</td>\n",
       "      <td>2</td>\n",
       "      <td>2</td>\n",
       "      <td>2</td>\n",
       "      <td>2</td>\n",
       "      <td>2</td>\n",
       "      <td>2</td>\n",
       "      <td>2</td>\n",
       "      <td>2</td>\n",
       "      <td>9</td>\n",
       "      <td>0</td>\n",
       "    </tr>\n",
       "    <tr>\n",
       "      <td>4</td>\n",
       "      <td>0</td>\n",
       "      <td>4252</td>\n",
       "      <td>1.0</td>\n",
       "      <td>train</td>\n",
       "      <td>0</td>\n",
       "      <td>0</td>\n",
       "      <td>0</td>\n",
       "      <td>0</td>\n",
       "      <td>0</td>\n",
       "      <td>0</td>\n",
       "      <td>...</td>\n",
       "      <td>2</td>\n",
       "      <td>2</td>\n",
       "      <td>2</td>\n",
       "      <td>2</td>\n",
       "      <td>2</td>\n",
       "      <td>2</td>\n",
       "      <td>2</td>\n",
       "      <td>2</td>\n",
       "      <td>9</td>\n",
       "      <td>0</td>\n",
       "    </tr>\n",
       "  </tbody>\n",
       "</table>\n",
       "<p>5 rows × 269 columns</p>\n",
       "</div>"
      ],
      "text/plain": [
       "   cntry     id  satisfied source  v1  v10  v100  v101  v102  v103  ...  v90  \\\n",
       "0      0   9948        0.0  train   3    0     0     1     2     3  ...    2   \n",
       "1      0  25601        0.0  train   5    0     0     1     3     4  ...    2   \n",
       "2      0   8592        1.0  train   7    0     8     1     0     0  ...    0   \n",
       "3      0  29593        0.0  train   2    0     0     1     0     0  ...    2   \n",
       "4      0   4252        1.0  train   0    0     0     0     0     0  ...    2   \n",
       "\n",
       "   v91  v92  v93  v94  v95  v96  v97  v98  v99  \n",
       "0    2    2    2    2    2    2    2    6    1  \n",
       "1    2    2    2    2    2    2    2    5    2  \n",
       "2    1    1    2    2    2    2    2    2    1  \n",
       "3    2    2    2    2    2    2    2    9    0  \n",
       "4    2    2    2    2    2    2    2    9    0  \n",
       "\n",
       "[5 rows x 269 columns]"
      ]
     },
     "execution_count": 21,
     "metadata": {},
     "output_type": "execute_result"
    }
   ],
   "source": [
    "data.head()"
   ]
  },
  {
   "cell_type": "code",
   "execution_count": 22,
   "metadata": {},
   "outputs": [
    {
     "name": "stderr",
     "output_type": "stream",
     "text": [
      "/opt/anaconda3/lib/python3.7/site-packages/pandas/core/frame.py:4102: SettingWithCopyWarning: \n",
      "A value is trying to be set on a copy of a slice from a DataFrame\n",
      "\n",
      "See the caveats in the documentation: http://pandas.pydata.org/pandas-docs/stable/user_guide/indexing.html#returning-a-view-versus-a-copy\n",
      "  errors=errors,\n"
     ]
    }
   ],
   "source": [
    "# separate train & test\n",
    "train = data.loc[data['source']=='train']\n",
    "test = data.loc[data['source']=='test']\n",
    "train.drop('source',axis=1,inplace=True)\n",
    "test.drop(['source','satisfied'],axis=1,inplace=True)"
   ]
  },
  {
   "cell_type": "code",
   "execution_count": 23,
   "metadata": {},
   "outputs": [],
   "source": [
    "df_X = train.drop([\"id\",\"satisfied\"],axis=1)\n",
    "df_y = train['satisfied']"
   ]
  },
  {
   "cell_type": "code",
   "execution_count": 24,
   "metadata": {},
   "outputs": [
    {
     "name": "stderr",
     "output_type": "stream",
     "text": [
      "/opt/anaconda3/lib/python3.7/site-packages/sklearn/ensemble/forest.py:245: FutureWarning: The default value of n_estimators will change from 10 in version 0.20 to 100 in 0.22.\n",
      "  \"10 in version 0.20 to 100 in 0.22.\", FutureWarning)\n"
     ]
    }
   ],
   "source": [
    "import pandas as pd\n",
    "from sklearn.ensemble import ExtraTreesClassifier\n",
    "from sklearn.feature_selection import SelectFromModel\n",
    "tr = ExtraTreesClassifier()\n",
    "fit = tr.fit(df_X, df_y) "
   ]
  },
  {
   "cell_type": "code",
   "execution_count": 25,
   "metadata": {},
   "outputs": [],
   "source": [
    "fit.feature_importances_\n",
    "model = SelectFromModel(fit, prefit=True)\n",
    "feature_idx = model.get_support()\n",
    "feature_name = df_X.columns[feature_idx]"
   ]
  },
  {
   "cell_type": "code",
   "execution_count": 26,
   "metadata": {},
   "outputs": [
    {
     "data": {
      "text/plain": [
       "130"
      ]
     },
     "execution_count": 26,
     "metadata": {},
     "output_type": "execute_result"
    }
   ],
   "source": [
    "len(feature_name)"
   ]
  },
  {
   "cell_type": "code",
   "execution_count": 27,
   "metadata": {},
   "outputs": [
    {
     "data": {
      "text/plain": [
       "Index(['cntry', 'v1', 'v101', 'v104', 'v105', 'v109', 'v110', 'v111', 'v112',\n",
       "       'v113',\n",
       "       ...\n",
       "       'v79', 'v80', 'v81', 'v82', 'v83', 'v84', 'v85', 'v90', 'v98', 'v99'],\n",
       "      dtype='object', length=130)"
      ]
     },
     "execution_count": 27,
     "metadata": {},
     "output_type": "execute_result"
    }
   ],
   "source": [
    "feature_name"
   ]
  },
  {
   "cell_type": "code",
   "execution_count": 28,
   "metadata": {},
   "outputs": [
    {
     "data": {
      "text/plain": [
       "Index(['cntry', 'id', 'v1', 'v10', 'v100', 'v101', 'v102', 'v103', 'v104',\n",
       "       'v105',\n",
       "       ...\n",
       "       'v90', 'v91', 'v92', 'v93', 'v94', 'v95', 'v96', 'v97', 'v98', 'v99'],\n",
       "      dtype='object', length=267)"
      ]
     },
     "execution_count": 28,
     "metadata": {},
     "output_type": "execute_result"
    }
   ],
   "source": [
    "test.columns"
   ]
  },
  {
   "cell_type": "code",
   "execution_count": 29,
   "metadata": {},
   "outputs": [],
   "source": [
    "drop=[]\n",
    "for i in test.columns:\n",
    "    if i not in feature_name:\n",
    "        if i != 'id':\n",
    "            drop.append(i)\n",
    "test = test.drop(drop,axis=1)"
   ]
  },
  {
   "cell_type": "code",
   "execution_count": 30,
   "metadata": {},
   "outputs": [
    {
     "data": {
      "text/plain": [
       "(9245, 131)"
      ]
     },
     "execution_count": 30,
     "metadata": {},
     "output_type": "execute_result"
    }
   ],
   "source": [
    "test.shape"
   ]
  },
  {
   "cell_type": "code",
   "execution_count": 31,
   "metadata": {},
   "outputs": [],
   "source": [
    "drop=[]\n",
    "for i in train.columns:\n",
    "    if i not in feature_name:\n",
    "        if i != 'id' and i != 'satisfied':\n",
    "            drop.append(i)\n",
    "train = train.drop(drop,axis=1)"
   ]
  },
  {
   "cell_type": "code",
   "execution_count": 32,
   "metadata": {},
   "outputs": [
    {
     "data": {
      "text/plain": [
       "(30080, 132)"
      ]
     },
     "execution_count": 32,
     "metadata": {},
     "output_type": "execute_result"
    }
   ],
   "source": [
    "train.shape"
   ]
  },
  {
   "cell_type": "code",
   "execution_count": 33,
   "metadata": {},
   "outputs": [],
   "source": [
    "from sklearn.preprocessing import StandardScaler\n",
    "train_test = train.drop(\"satisfied\",axis=1)"
   ]
  },
  {
   "cell_type": "code",
   "execution_count": 34,
   "metadata": {},
   "outputs": [],
   "source": [
    "train.to_csv(\"modified_train.csv\", index=False)\n",
    "test.to_csv(\"modified_test.csv\", index=False)"
   ]
  },
  {
   "cell_type": "code",
   "execution_count": null,
   "metadata": {},
   "outputs": [],
   "source": []
  }
 ],
 "metadata": {
  "kernelspec": {
   "display_name": "Python 3",
   "language": "python",
   "name": "python3"
  },
  "language_info": {
   "codemirror_mode": {
    "name": "ipython",
    "version": 3
   },
   "file_extension": ".py",
   "mimetype": "text/x-python",
   "name": "python",
   "nbconvert_exporter": "python",
   "pygments_lexer": "ipython3",
   "version": "3.7.4"
  }
 },
 "nbformat": 4,
 "nbformat_minor": 2
}
