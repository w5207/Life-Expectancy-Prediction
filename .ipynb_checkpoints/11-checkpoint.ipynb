{
 "cells": [
  {
   "cell_type": "code",
   "execution_count": 1,
   "metadata": {},
   "outputs": [],
   "source": [
    "import numpy as np\n",
    "import pandas as pd \n",
    "import os\n",
    "import sklearn "
   ]
  },
  {
   "cell_type": "code",
   "execution_count": 2,
   "metadata": {},
   "outputs": [],
   "source": [
    "# read in data"
   ]
  },
  {
   "cell_type": "code",
   "execution_count": 3,
   "metadata": {},
   "outputs": [
    {
     "name": "stdout",
     "output_type": "stream",
     "text": [
      "['.DS_Store', 'test.csv', 'test_raw.csv', 'train_raw.csv', 'train.csv', 'codebook_compact.txt', 'codebook_long.txt', 'sample_submission.csv']\n"
     ]
    }
   ],
   "source": [
    "print(os.listdir(\"../stat441 project/Resources/\"))"
   ]
  },
  {
   "cell_type": "code",
   "execution_count": 4,
   "metadata": {},
   "outputs": [],
   "source": [
    "path = \"../stat441 project/Resources/\""
   ]
  },
  {
   "cell_type": "code",
   "execution_count": 5,
   "metadata": {},
   "outputs": [
    {
     "name": "stderr",
     "output_type": "stream",
     "text": [
      "/opt/anaconda3/lib/python3.7/site-packages/IPython/core/interactiveshell.py:3058: DtypeWarning: Columns (3,4,6,10,12,18,24,35,56,57,65,85,86,87,88,89,98,99,100,105,124,125,126,127,128,130,131,133,166,171,172,192,193,194,195,204,205,206,207,228,229,230,240,256,257,258,259,260,261,262) have mixed types. Specify dtype option on import or set low_memory=False.\n",
      "  interactivity=interactivity, compiler=compiler, result=result)\n",
      "/opt/anaconda3/lib/python3.7/site-packages/IPython/core/interactiveshell.py:3058: DtypeWarning: Columns (3,6,10,12,21,24,35,85,87,88,89,100,124,126,127,128,130,131,133,166,172,177,193,194,195,205,206,207,220,222,228,229,230,240,257,258,260,261,262) have mixed types. Specify dtype option on import or set low_memory=False.\n",
      "  interactivity=interactivity, compiler=compiler, result=result)\n"
     ]
    }
   ],
   "source": [
    "train_df = pd.read_csv(path + \"train.csv\")\n",
    "test_df = pd.read_csv(path+\"test.csv\")"
   ]
  },
  {
   "cell_type": "code",
   "execution_count": 6,
   "metadata": {},
   "outputs": [
    {
     "name": "stdout",
     "output_type": "stream",
     "text": [
      "size of train_df data (30080, 273)\n",
      "size of test_df data (9245, 272)\n"
     ]
    }
   ],
   "source": [
    "print('size of train_df data',train_df.shape) \n",
    "print('size of test_df data',test_df.shape) "
   ]
  },
  {
   "cell_type": "code",
   "execution_count": 7,
   "metadata": {},
   "outputs": [
    {
     "data": {
      "text/plain": [
       "id            int64\n",
       "v1           object\n",
       "v2           object\n",
       "v3           object\n",
       "v4           object\n",
       "              ...  \n",
       "v268         object\n",
       "v269         object\n",
       "v270         object\n",
       "cntry        object\n",
       "satisfied     int64\n",
       "Length: 273, dtype: object"
      ]
     },
     "execution_count": 7,
     "metadata": {},
     "output_type": "execute_result"
    }
   ],
   "source": [
    "train_df.dtypes"
   ]
  },
  {
   "cell_type": "code",
   "execution_count": 8,
   "metadata": {},
   "outputs": [
    {
     "name": "stderr",
     "output_type": "stream",
     "text": [
      "/opt/anaconda3/lib/python3.7/site-packages/ipykernel_launcher.py:4: FutureWarning: Sorting because non-concatenation axis is not aligned. A future version\n",
      "of pandas will change to not sort by default.\n",
      "\n",
      "To accept the future behavior, pass 'sort=False'.\n",
      "\n",
      "To retain the current behavior and silence the warning, pass 'sort=True'.\n",
      "\n",
      "  after removing the cwd from sys.path.\n"
     ]
    },
    {
     "data": {
      "text/plain": [
       "(39325, 274)"
      ]
     },
     "execution_count": 8,
     "metadata": {},
     "output_type": "execute_result"
    }
   ],
   "source": [
    "#Combine into data:\n",
    "train_df['source']= 'train'\n",
    "test_df['source'] = 'test'\n",
    "data=pd.concat([train_df, test_df],ignore_index=True)\n",
    "data.shape"
   ]
  },
  {
   "cell_type": "code",
   "execution_count": 9,
   "metadata": {},
   "outputs": [
    {
     "data": {
      "text/plain": [
       "cntry            0\n",
       "id               0\n",
       "satisfied     9245\n",
       "source           0\n",
       "v1               0\n",
       "             ...  \n",
       "v95           2097\n",
       "v96           6972\n",
       "v97          12820\n",
       "v98              0\n",
       "v99              0\n",
       "Length: 274, dtype: int64"
      ]
     },
     "execution_count": 9,
     "metadata": {},
     "output_type": "execute_result"
    }
   ],
   "source": [
    "data.apply(lambda x: sum(x.isnull()))"
   ]
  },
  {
   "cell_type": "code",
   "execution_count": 10,
   "metadata": {},
   "outputs": [
    {
     "data": {
      "text/html": [
       "<div>\n",
       "<style scoped>\n",
       "    .dataframe tbody tr th:only-of-type {\n",
       "        vertical-align: middle;\n",
       "    }\n",
       "\n",
       "    .dataframe tbody tr th {\n",
       "        vertical-align: top;\n",
       "    }\n",
       "\n",
       "    .dataframe thead th {\n",
       "        text-align: right;\n",
       "    }\n",
       "</style>\n",
       "<table border=\"1\" class=\"dataframe\">\n",
       "  <thead>\n",
       "    <tr style=\"text-align: right;\">\n",
       "      <th></th>\n",
       "      <th>count</th>\n",
       "      <th>ratio</th>\n",
       "    </tr>\n",
       "  </thead>\n",
       "  <tbody>\n",
       "    <tr>\n",
       "      <td>v123</td>\n",
       "      <td>27692</td>\n",
       "      <td>0.920612</td>\n",
       "    </tr>\n",
       "    <tr>\n",
       "      <td>v195</td>\n",
       "      <td>26907</td>\n",
       "      <td>0.894515</td>\n",
       "    </tr>\n",
       "    <tr>\n",
       "      <td>v89</td>\n",
       "      <td>26907</td>\n",
       "      <td>0.894515</td>\n",
       "    </tr>\n",
       "    <tr>\n",
       "      <td>v207</td>\n",
       "      <td>26907</td>\n",
       "      <td>0.894515</td>\n",
       "    </tr>\n",
       "    <tr>\n",
       "      <td>v262</td>\n",
       "      <td>26907</td>\n",
       "      <td>0.894515</td>\n",
       "    </tr>\n",
       "    <tr>\n",
       "      <td>v206</td>\n",
       "      <td>16037</td>\n",
       "      <td>0.533145</td>\n",
       "    </tr>\n",
       "    <tr>\n",
       "      <td>v261</td>\n",
       "      <td>16037</td>\n",
       "      <td>0.533145</td>\n",
       "    </tr>\n",
       "    <tr>\n",
       "      <td>v194</td>\n",
       "      <td>16037</td>\n",
       "      <td>0.533145</td>\n",
       "    </tr>\n",
       "    <tr>\n",
       "      <td>v88</td>\n",
       "      <td>16037</td>\n",
       "      <td>0.533145</td>\n",
       "    </tr>\n",
       "    <tr>\n",
       "      <td>v205</td>\n",
       "      <td>13200</td>\n",
       "      <td>0.438830</td>\n",
       "    </tr>\n",
       "    <tr>\n",
       "      <td>v87</td>\n",
       "      <td>13200</td>\n",
       "      <td>0.438830</td>\n",
       "    </tr>\n",
       "    <tr>\n",
       "      <td>v260</td>\n",
       "      <td>13200</td>\n",
       "      <td>0.438830</td>\n",
       "    </tr>\n",
       "    <tr>\n",
       "      <td>v193</td>\n",
       "      <td>13200</td>\n",
       "      <td>0.438830</td>\n",
       "    </tr>\n",
       "    <tr>\n",
       "      <td>v192</td>\n",
       "      <td>11453</td>\n",
       "      <td>0.380751</td>\n",
       "    </tr>\n",
       "    <tr>\n",
       "      <td>v259</td>\n",
       "      <td>11453</td>\n",
       "      <td>0.380751</td>\n",
       "    </tr>\n",
       "    <tr>\n",
       "      <td>v86</td>\n",
       "      <td>11453</td>\n",
       "      <td>0.380751</td>\n",
       "    </tr>\n",
       "    <tr>\n",
       "      <td>v204</td>\n",
       "      <td>11453</td>\n",
       "      <td>0.380751</td>\n",
       "    </tr>\n",
       "    <tr>\n",
       "      <td>v215</td>\n",
       "      <td>10264</td>\n",
       "      <td>0.341223</td>\n",
       "    </tr>\n",
       "    <tr>\n",
       "      <td>v97</td>\n",
       "      <td>10264</td>\n",
       "      <td>0.341223</td>\n",
       "    </tr>\n",
       "    <tr>\n",
       "      <td>v270</td>\n",
       "      <td>10264</td>\n",
       "      <td>0.341223</td>\n",
       "    </tr>\n",
       "  </tbody>\n",
       "</table>\n",
       "</div>"
      ],
      "text/plain": [
       "      count     ratio\n",
       "v123  27692  0.920612\n",
       "v195  26907  0.894515\n",
       "v89   26907  0.894515\n",
       "v207  26907  0.894515\n",
       "v262  26907  0.894515\n",
       "v206  16037  0.533145\n",
       "v261  16037  0.533145\n",
       "v194  16037  0.533145\n",
       "v88   16037  0.533145\n",
       "v205  13200  0.438830\n",
       "v87   13200  0.438830\n",
       "v260  13200  0.438830\n",
       "v193  13200  0.438830\n",
       "v192  11453  0.380751\n",
       "v259  11453  0.380751\n",
       "v86   11453  0.380751\n",
       "v204  11453  0.380751\n",
       "v215  10264  0.341223\n",
       "v97   10264  0.341223\n",
       "v270  10264  0.341223"
      ]
     },
     "execution_count": 10,
     "metadata": {},
     "output_type": "execute_result"
    }
   ],
   "source": [
    "data.replace(['.a','.b','.c','.d'],np.NaN,inplace=True)\n",
    "na_count = train_df.isnull().sum().sort_values(ascending=False)\n",
    "na_rate = na_count/len(train_df)\n",
    "na_data = pd.concat([na_count,na_rate],axis=1,keys=['count','ratio'])\n",
    "na_data.head(20)"
   ]
  },
  {
   "cell_type": "code",
   "execution_count": 11,
   "metadata": {},
   "outputs": [
    {
     "data": {
      "text/plain": [
       "(39325, 269)"
      ]
     },
     "execution_count": 11,
     "metadata": {},
     "output_type": "execute_result"
    }
   ],
   "source": [
    "data = data.drop(na_data[na_data['ratio']>0.8].index,axis=1)\n",
    "data.shape"
   ]
  },
  {
   "cell_type": "code",
   "execution_count": 12,
   "metadata": {},
   "outputs": [],
   "source": [
    "data2 = data.drop(['id','satisfied','source'],axis=1)\n",
    "quantity = [attr for attr in data2.columns if data2.dtypes[attr] != 'object'] \n",
    "quality = [attr for attr in data2.columns if data2.dtypes[attr] == 'object']"
   ]
  },
  {
   "cell_type": "code",
   "execution_count": 13,
   "metadata": {},
   "outputs": [
    {
     "data": {
      "text/plain": [
       "v106       0\n",
       "v107       0\n",
       "v129       0\n",
       "v132    1574\n",
       "v134       0\n",
       "v15        0\n",
       "v16        0\n",
       "v175       0\n",
       "v176       0\n",
       "v185       0\n",
       "v217       0\n",
       "v218       0\n",
       "v244       0\n",
       "v245       0\n",
       "v246       0\n",
       "v247       0\n",
       "v26        0\n",
       "v27        0\n",
       "v28        0\n",
       "v29        0\n",
       "v30        0\n",
       "v31        0\n",
       "v32        0\n",
       "v33        0\n",
       "v34        0\n",
       "v36        0\n",
       "v37        0\n",
       "v38        0\n",
       "v39        0\n",
       "v40        0\n",
       "v41        0\n",
       "v42        0\n",
       "v44        0\n",
       "v45        0\n",
       "v46        0\n",
       "v47        0\n",
       "v48        0\n",
       "v49        0\n",
       "v50        0\n",
       "v51        0\n",
       "v52        0\n",
       "v54        0\n",
       "v55        0\n",
       "dtype: int64"
      ]
     },
     "execution_count": 13,
     "metadata": {},
     "output_type": "execute_result"
    }
   ],
   "source": [
    "data[quantity].isnull().sum()"
   ]
  },
  {
   "cell_type": "code",
   "execution_count": 14,
   "metadata": {},
   "outputs": [],
   "source": [
    "quantity_df= data[quantity]\n",
    "known_v132 = quantity_df[quantity_df.v132.notnull()]\n",
    "unknown_v132 = quantity_df[quantity_df.v132.isnull()]\n",
    "y_v132 = known_v132['v132'] \n",
    "X_v132 = known_v132.drop('v132',axis = 1)"
   ]
  },
  {
   "cell_type": "code",
   "execution_count": 15,
   "metadata": {},
   "outputs": [],
   "source": [
    "from sklearn.ensemble import RandomForestRegressor\n",
    "rfr = RandomForestRegressor(random_state=0, n_estimators=2000,n_jobs=-1) \n",
    "rfr.fit(X_v132,y_v132) \n",
    "predicted_v132 = rfr.predict(unknown_v132.drop('v132',axis=1))\n",
    "data.loc[(data.v132.isnull()),'v132'] = predicted_v132 "
   ]
  },
  {
   "cell_type": "code",
   "execution_count": 16,
   "metadata": {},
   "outputs": [
    {
     "name": "stdout",
     "output_type": "stream",
     "text": [
      "['v1', 'v10', 'v100', 'v101', 'v102', 'v103', 'v105', 'v108', 'v109', 'v110', 'v111', 'v112', 'v113', 'v114', 'v115', 'v116', 'v117', 'v118', 'v119', 'v12', 'v120', 'v121', 'v122', 'v124', 'v125', 'v126', 'v127', 'v128', 'v13', 'v130', 'v131', 'v133', 'v135', 'v136', 'v137', 'v138', 'v139', 'v14', 'v140', 'v141', 'v142', 'v143', 'v144', 'v145', 'v146', 'v147', 'v148', 'v149', 'v150', 'v152', 'v159', 'v162', 'v163', 'v165', 'v166', 'v167', 'v171', 'v172', 'v177', 'v178', 'v179', 'v18', 'v180', 'v181', 'v183', 'v184', 'v186', 'v187', 'v189', 'v19', 'v2', 'v21', 'v219', 'v220', 'v221', 'v222', 'v223', 'v224', 'v225', 'v226', 'v227', 'v228', 'v229', 'v230', 'v231', 'v232', 'v233', 'v234', 'v235', 'v236', 'v237', 'v238', 'v239', 'v24', 'v240', 'v242', 'v248', 'v249', 'v253', 'v254', 'v256', 'v257', 'v258', 'v3', 'v35', 'v4', 'v43', 'v53', 'v56', 'v57', 'v6', 'v64', 'v65', 'v7', 'v70', 'v72', 'v73', 'v74', 'v76', 'v77', 'v79', 'v8', 'v80', 'v81', 'v82', 'v83', 'v84', 'v85', 'v9', 'v98', 'v99']\n"
     ]
    }
   ],
   "source": [
    "small_missing = []\n",
    "for c in quality:\n",
    "    percent_missing = data[c].isnull().sum() * 100 / len(data[c])\n",
    "    if percent_missing > 0 and percent_missing < 10:    \n",
    "        small_missing.append(c)\n",
    "print(small_missing) "
   ]
  },
  {
   "cell_type": "code",
   "execution_count": 17,
   "metadata": {},
   "outputs": [],
   "source": [
    "for c in small_missing:\n",
    "    most_frequent = data[c].value_counts().keys()[0]\n",
    "    data[c] = data[c].fillna(most_frequent)"
   ]
  },
  {
   "cell_type": "code",
   "execution_count": 18,
   "metadata": {},
   "outputs": [
    {
     "name": "stdout",
     "output_type": "stream",
     "text": [
      "['v104', 'v11', 'v151', 'v153', 'v156', 'v157', 'v158', 'v160', 'v164', 'v168', 'v169', 'v170', 'v173', 'v174', 'v182', 'v188', 'v190', 'v191', 'v192', 'v193', 'v194', 'v196', 'v197', 'v198', 'v199', 'v200', 'v201', 'v202', 'v203', 'v204', 'v205', 'v206', 'v208', 'v209', 'v210', 'v211', 'v212', 'v213', 'v214', 'v215', 'v216', 'v22', 'v23', 'v241', 'v243', 'v250', 'v251', 'v252', 'v255', 'v259', 'v260', 'v261', 'v263', 'v264', 'v265', 'v266', 'v267', 'v268', 'v269', 'v270', 'v5', 'v58', 'v59', 'v60', 'v61', 'v62', 'v63', 'v66', 'v67', 'v68', 'v69', 'v71', 'v75', 'v86', 'v87', 'v88', 'v90', 'v91', 'v92', 'v93', 'v94', 'v95', 'v96', 'v97']\n"
     ]
    }
   ],
   "source": [
    "large_missing = []\n",
    "for c in quality:\n",
    "    percent_missing = data[c].isnull().sum() * 100 / len(data[c])\n",
    "    if percent_missing == 10 or percent_missing > 10 :    \n",
    "        large_missing.append(c)\n",
    "print(large_missing) "
   ]
  },
  {
   "cell_type": "code",
   "execution_count": 19,
   "metadata": {},
   "outputs": [],
   "source": [
    "for c in large_missing:\n",
    "    data[c] = data[c].fillna(\"MissValue\")"
   ]
  },
  {
   "cell_type": "code",
   "execution_count": 20,
   "metadata": {},
   "outputs": [
    {
     "data": {
      "text/plain": [
       "cntry           0\n",
       "id              0\n",
       "satisfied    9245\n",
       "source          0\n",
       "v1              0\n",
       "             ... \n",
       "v95             0\n",
       "v96             0\n",
       "v97             0\n",
       "v98             0\n",
       "v99             0\n",
       "Length: 269, dtype: int64"
      ]
     },
     "execution_count": 20,
     "metadata": {},
     "output_type": "execute_result"
    }
   ],
   "source": [
    "data.apply(lambda x: sum(x.isnull()))"
   ]
  },
  {
   "cell_type": "code",
   "execution_count": 21,
   "metadata": {},
   "outputs": [],
   "source": [
    "from sklearn.preprocessing import LabelEncoder\n",
    "le = LabelEncoder()\n",
    "for c in quality:\n",
    "    data[c] = le.fit_transform(data[c].astype(str))"
   ]
  },
  {
   "cell_type": "code",
   "execution_count": 22,
   "metadata": {},
   "outputs": [
    {
     "data": {
      "text/html": [
       "<div>\n",
       "<style scoped>\n",
       "    .dataframe tbody tr th:only-of-type {\n",
       "        vertical-align: middle;\n",
       "    }\n",
       "\n",
       "    .dataframe tbody tr th {\n",
       "        vertical-align: top;\n",
       "    }\n",
       "\n",
       "    .dataframe thead th {\n",
       "        text-align: right;\n",
       "    }\n",
       "</style>\n",
       "<table border=\"1\" class=\"dataframe\">\n",
       "  <thead>\n",
       "    <tr style=\"text-align: right;\">\n",
       "      <th></th>\n",
       "      <th>cntry</th>\n",
       "      <th>id</th>\n",
       "      <th>satisfied</th>\n",
       "      <th>source</th>\n",
       "      <th>v1</th>\n",
       "      <th>v10</th>\n",
       "      <th>v100</th>\n",
       "      <th>v101</th>\n",
       "      <th>v102</th>\n",
       "      <th>v103</th>\n",
       "      <th>...</th>\n",
       "      <th>v90</th>\n",
       "      <th>v91</th>\n",
       "      <th>v92</th>\n",
       "      <th>v93</th>\n",
       "      <th>v94</th>\n",
       "      <th>v95</th>\n",
       "      <th>v96</th>\n",
       "      <th>v97</th>\n",
       "      <th>v98</th>\n",
       "      <th>v99</th>\n",
       "    </tr>\n",
       "  </thead>\n",
       "  <tbody>\n",
       "    <tr>\n",
       "      <td>0</td>\n",
       "      <td>0</td>\n",
       "      <td>9948</td>\n",
       "      <td>0.0</td>\n",
       "      <td>train</td>\n",
       "      <td>3</td>\n",
       "      <td>0</td>\n",
       "      <td>0</td>\n",
       "      <td>1</td>\n",
       "      <td>2</td>\n",
       "      <td>3</td>\n",
       "      <td>...</td>\n",
       "      <td>2</td>\n",
       "      <td>2</td>\n",
       "      <td>2</td>\n",
       "      <td>2</td>\n",
       "      <td>2</td>\n",
       "      <td>2</td>\n",
       "      <td>2</td>\n",
       "      <td>2</td>\n",
       "      <td>6</td>\n",
       "      <td>1</td>\n",
       "    </tr>\n",
       "    <tr>\n",
       "      <td>1</td>\n",
       "      <td>0</td>\n",
       "      <td>25601</td>\n",
       "      <td>0.0</td>\n",
       "      <td>train</td>\n",
       "      <td>5</td>\n",
       "      <td>0</td>\n",
       "      <td>0</td>\n",
       "      <td>1</td>\n",
       "      <td>3</td>\n",
       "      <td>4</td>\n",
       "      <td>...</td>\n",
       "      <td>2</td>\n",
       "      <td>2</td>\n",
       "      <td>2</td>\n",
       "      <td>2</td>\n",
       "      <td>2</td>\n",
       "      <td>2</td>\n",
       "      <td>2</td>\n",
       "      <td>2</td>\n",
       "      <td>5</td>\n",
       "      <td>2</td>\n",
       "    </tr>\n",
       "    <tr>\n",
       "      <td>2</td>\n",
       "      <td>0</td>\n",
       "      <td>8592</td>\n",
       "      <td>1.0</td>\n",
       "      <td>train</td>\n",
       "      <td>7</td>\n",
       "      <td>0</td>\n",
       "      <td>8</td>\n",
       "      <td>1</td>\n",
       "      <td>0</td>\n",
       "      <td>0</td>\n",
       "      <td>...</td>\n",
       "      <td>0</td>\n",
       "      <td>1</td>\n",
       "      <td>1</td>\n",
       "      <td>2</td>\n",
       "      <td>2</td>\n",
       "      <td>2</td>\n",
       "      <td>2</td>\n",
       "      <td>2</td>\n",
       "      <td>2</td>\n",
       "      <td>1</td>\n",
       "    </tr>\n",
       "    <tr>\n",
       "      <td>3</td>\n",
       "      <td>0</td>\n",
       "      <td>29593</td>\n",
       "      <td>0.0</td>\n",
       "      <td>train</td>\n",
       "      <td>2</td>\n",
       "      <td>0</td>\n",
       "      <td>0</td>\n",
       "      <td>1</td>\n",
       "      <td>0</td>\n",
       "      <td>0</td>\n",
       "      <td>...</td>\n",
       "      <td>2</td>\n",
       "      <td>2</td>\n",
       "      <td>2</td>\n",
       "      <td>2</td>\n",
       "      <td>2</td>\n",
       "      <td>2</td>\n",
       "      <td>2</td>\n",
       "      <td>2</td>\n",
       "      <td>9</td>\n",
       "      <td>0</td>\n",
       "    </tr>\n",
       "    <tr>\n",
       "      <td>4</td>\n",
       "      <td>0</td>\n",
       "      <td>4252</td>\n",
       "      <td>1.0</td>\n",
       "      <td>train</td>\n",
       "      <td>0</td>\n",
       "      <td>0</td>\n",
       "      <td>0</td>\n",
       "      <td>0</td>\n",
       "      <td>0</td>\n",
       "      <td>0</td>\n",
       "      <td>...</td>\n",
       "      <td>2</td>\n",
       "      <td>2</td>\n",
       "      <td>2</td>\n",
       "      <td>2</td>\n",
       "      <td>2</td>\n",
       "      <td>2</td>\n",
       "      <td>2</td>\n",
       "      <td>2</td>\n",
       "      <td>9</td>\n",
       "      <td>0</td>\n",
       "    </tr>\n",
       "  </tbody>\n",
       "</table>\n",
       "<p>5 rows × 269 columns</p>\n",
       "</div>"
      ],
      "text/plain": [
       "   cntry     id  satisfied source  v1  v10  v100  v101  v102  v103  ...  v90  \\\n",
       "0      0   9948        0.0  train   3    0     0     1     2     3  ...    2   \n",
       "1      0  25601        0.0  train   5    0     0     1     3     4  ...    2   \n",
       "2      0   8592        1.0  train   7    0     8     1     0     0  ...    0   \n",
       "3      0  29593        0.0  train   2    0     0     1     0     0  ...    2   \n",
       "4      0   4252        1.0  train   0    0     0     0     0     0  ...    2   \n",
       "\n",
       "   v91  v92  v93  v94  v95  v96  v97  v98  v99  \n",
       "0    2    2    2    2    2    2    2    6    1  \n",
       "1    2    2    2    2    2    2    2    5    2  \n",
       "2    1    1    2    2    2    2    2    2    1  \n",
       "3    2    2    2    2    2    2    2    9    0  \n",
       "4    2    2    2    2    2    2    2    9    0  \n",
       "\n",
       "[5 rows x 269 columns]"
      ]
     },
     "execution_count": 22,
     "metadata": {},
     "output_type": "execute_result"
    }
   ],
   "source": [
    "data.head()"
   ]
  },
  {
   "cell_type": "code",
   "execution_count": 23,
   "metadata": {},
   "outputs": [
    {
     "name": "stderr",
     "output_type": "stream",
     "text": [
      "/opt/anaconda3/lib/python3.7/site-packages/pandas/core/frame.py:4102: SettingWithCopyWarning: \n",
      "A value is trying to be set on a copy of a slice from a DataFrame\n",
      "\n",
      "See the caveats in the documentation: http://pandas.pydata.org/pandas-docs/stable/user_guide/indexing.html#returning-a-view-versus-a-copy\n",
      "  errors=errors,\n"
     ]
    }
   ],
   "source": [
    "# separate train & test\n",
    "train = data.loc[data['source']=='train']\n",
    "test = data.loc[data['source']=='test']\n",
    "train.drop('source',axis=1,inplace=True)\n",
    "test.drop(['source','satisfied'],axis=1,inplace=True)"
   ]
  },
  {
   "cell_type": "code",
   "execution_count": 24,
   "metadata": {},
   "outputs": [],
   "source": [
    "df_X = train.drop([\"id\",\"satisfied\"],axis=1)\n",
    "df_y = train['satisfied']"
   ]
  },
  {
   "cell_type": "code",
   "execution_count": 25,
   "metadata": {},
   "outputs": [
    {
     "name": "stderr",
     "output_type": "stream",
     "text": [
      "/opt/anaconda3/lib/python3.7/site-packages/sklearn/ensemble/forest.py:245: FutureWarning: The default value of n_estimators will change from 10 in version 0.20 to 100 in 0.22.\n",
      "  \"10 in version 0.20 to 100 in 0.22.\", FutureWarning)\n"
     ]
    }
   ],
   "source": [
    "import pandas as pd\n",
    "from sklearn.ensemble import ExtraTreesClassifier\n",
    "from sklearn.feature_selection import SelectFromModel\n",
    "tr = ExtraTreesClassifier()\n",
    "fit = tr.fit(df_X, df_y) "
   ]
  },
  {
   "cell_type": "code",
   "execution_count": 26,
   "metadata": {},
   "outputs": [],
   "source": [
    "fit.feature_importances_\n",
    "model = SelectFromModel(fit, prefit=True)\n",
    "feature_idx = model.get_support()\n",
    "feature_name = df_X.columns[feature_idx]"
   ]
  },
  {
   "cell_type": "code",
   "execution_count": 27,
   "metadata": {},
   "outputs": [
    {
     "data": {
      "text/plain": [
       "127"
      ]
     },
     "execution_count": 27,
     "metadata": {},
     "output_type": "execute_result"
    }
   ],
   "source": [
    "len(feature_name)"
   ]
  },
  {
   "cell_type": "code",
   "execution_count": 28,
   "metadata": {},
   "outputs": [
    {
     "data": {
      "text/plain": [
       "Index(['cntry', 'v1', 'v101', 'v104', 'v105', 'v109', 'v110', 'v111', 'v112',\n",
       "       'v113',\n",
       "       ...\n",
       "       'v79', 'v80', 'v81', 'v82', 'v83', 'v84', 'v85', 'v90', 'v98', 'v99'],\n",
       "      dtype='object', length=127)"
      ]
     },
     "execution_count": 28,
     "metadata": {},
     "output_type": "execute_result"
    }
   ],
   "source": [
    "feature_name"
   ]
  },
  {
   "cell_type": "code",
   "execution_count": 29,
   "metadata": {},
   "outputs": [
    {
     "data": {
      "text/plain": [
       "Index(['cntry', 'id', 'v1', 'v10', 'v100', 'v101', 'v102', 'v103', 'v104',\n",
       "       'v105',\n",
       "       ...\n",
       "       'v90', 'v91', 'v92', 'v93', 'v94', 'v95', 'v96', 'v97', 'v98', 'v99'],\n",
       "      dtype='object', length=267)"
      ]
     },
     "execution_count": 29,
     "metadata": {},
     "output_type": "execute_result"
    }
   ],
   "source": [
    "test.columns"
   ]
  },
  {
   "cell_type": "code",
   "execution_count": 30,
   "metadata": {},
   "outputs": [],
   "source": [
    "drop=[]\n",
    "for i in test.columns:\n",
    "    if i not in feature_name:\n",
    "        if i != 'id':\n",
    "            drop.append(i)\n",
    "test = test.drop(drop,axis=1)"
   ]
  },
  {
   "cell_type": "code",
   "execution_count": 31,
   "metadata": {},
   "outputs": [
    {
     "data": {
      "text/plain": [
       "(9245, 128)"
      ]
     },
     "execution_count": 31,
     "metadata": {},
     "output_type": "execute_result"
    }
   ],
   "source": [
    "test.shape"
   ]
  },
  {
   "cell_type": "code",
   "execution_count": 32,
   "metadata": {},
   "outputs": [],
   "source": [
    "drop=[]\n",
    "for i in train.columns:\n",
    "    if i not in feature_name:\n",
    "        if i != 'id' and i != 'satisfied':\n",
    "            drop.append(i)\n",
    "train = train.drop(drop,axis=1)"
   ]
  },
  {
   "cell_type": "code",
   "execution_count": 33,
   "metadata": {},
   "outputs": [
    {
     "data": {
      "text/plain": [
       "(30080, 129)"
      ]
     },
     "execution_count": 33,
     "metadata": {},
     "output_type": "execute_result"
    }
   ],
   "source": [
    "train.shape"
   ]
  },
  {
   "cell_type": "code",
   "execution_count": 34,
   "metadata": {},
   "outputs": [],
   "source": [
    "import pandas as pd\n",
    "import numpy as np\n",
    "import xgboost as xgb\n",
    "from xgboost.sklearn import XGBClassifier\n",
    "from sklearn import metrics\n",
    "from sklearn.model_selection import cross_validate, GridSearchCV\n",
    "\n",
    "\n",
    "import matplotlib.pylab as plt\n",
    "%matplotlib inline\n",
    "from matplotlib.pylab import rcParams\n",
    "rcParams['figure.figsize'] = 12, 4"
   ]
  },
  {
   "cell_type": "code",
   "execution_count": 35,
   "metadata": {},
   "outputs": [],
   "source": [
    "target='satisfied'\n",
    "IDcol = 'id'"
   ]
  },
  {
   "cell_type": "code",
   "execution_count": 36,
   "metadata": {},
   "outputs": [
    {
     "data": {
      "text/plain": [
       "1.0    15626\n",
       "0.0    14454\n",
       "Name: satisfied, dtype: int64"
      ]
     },
     "execution_count": 36,
     "metadata": {},
     "output_type": "execute_result"
    }
   ],
   "source": [
    "train['satisfied'].value_counts()"
   ]
  },
  {
   "cell_type": "code",
   "execution_count": 37,
   "metadata": {},
   "outputs": [],
   "source": [
    "def modelfit(alg, dtrain, predictors,useTrainCV=True, cv_folds=5, early_stopping_rounds=50):\n",
    "    \n",
    "    if useTrainCV:\n",
    "        xgb_param = alg.get_xgb_params()\n",
    "        xgtrain = xgb.DMatrix(dtrain[predictors].values, label=dtrain[target].values)\n",
    "        cvresult = xgb.cv(xgb_param, xgtrain, num_boost_round=alg.get_params()['n_estimators'], nfold=cv_folds,\n",
    "            metrics='auc', early_stopping_rounds=early_stopping_rounds)\n",
    "        alg.set_params(n_estimators=cvresult.shape[0])\n",
    "    \n",
    "    #Fit the algorithm on the data\n",
    "    alg.fit(dtrain[predictors], dtrain['satisfied'],eval_metric='auc')\n",
    "        \n",
    "    #Predict training set:\n",
    "    dtrain_predictions = alg.predict(dtrain[predictors])\n",
    "    dtrain_predprob = alg.predict_proba(dtrain[predictors])[:,1]\n",
    "        \n",
    "    #Print model report:\n",
    "    print (\"\\nModel Report\")\n",
    "    print (\"Accuracy : %.4g\" % metrics.accuracy_score(dtrain['satisfied'].values, dtrain_predictions))\n",
    "    print (\"AUC Score (Train): %f\" % metrics.roc_auc_score(dtrain['satisfied'], dtrain_predprob))"
   ]
  },
  {
   "cell_type": "code",
   "execution_count": 38,
   "metadata": {},
   "outputs": [
    {
     "name": "stdout",
     "output_type": "stream",
     "text": [
      "\n",
      "Model Report\n",
      "Accuracy : 0.8449\n",
      "AUC Score (Train): 0.927730\n"
     ]
    }
   ],
   "source": [
    "predictors = [x for x in train.columns if x not in [target, IDcol]]\n",
    "xgb1 = XGBClassifier(\n",
    "        learning_rate =0.1,\n",
    "        n_estimators=1000,\n",
    "        max_depth=5,\n",
    "        min_child_weight=1,\n",
    "        gamma=0,\n",
    "        subsample=0.8,\n",
    "        colsample_bytree=0.8,\n",
    "        objective= 'binary:logistic',\n",
    "        nthread=4,\n",
    "        scale_pos_weight=1,\n",
    "        seed=27)\n",
    "modelfit(xgb1, train, predictors)"
   ]
  },
  {
   "cell_type": "code",
   "execution_count": 39,
   "metadata": {},
   "outputs": [
    {
     "data": {
      "text/plain": [
       "GridSearchCV(cv=5, error_score='raise-deprecating',\n",
       "             estimator=XGBClassifier(base_score=0.5, booster='gbtree',\n",
       "                                     colsample_bylevel=1, colsample_bynode=1,\n",
       "                                     colsample_bytree=0.8, gamma=0,\n",
       "                                     learning_rate=0.1, max_delta_step=0,\n",
       "                                     max_depth=5, min_child_weight=1,\n",
       "                                     missing=None, n_estimators=140, n_jobs=1,\n",
       "                                     nthread=4, objective='binary:logistic',\n",
       "                                     random_state=0, reg_alpha=0, reg_lambda=1,\n",
       "                                     scale_pos_weight=1, seed=27, silent=None,\n",
       "                                     subsample=0.8, verbosity=1),\n",
       "             iid=False, n_jobs=4,\n",
       "             param_grid={'max_depth': range(3, 10, 2),\n",
       "                         'min_child_weight': range(1, 6, 2)},\n",
       "             pre_dispatch='2*n_jobs', refit=True, return_train_score=False,\n",
       "             scoring='roc_auc', verbose=0)"
      ]
     },
     "execution_count": 39,
     "metadata": {},
     "output_type": "execute_result"
    }
   ],
   "source": [
    "#Grid seach on subsample and max_features\n",
    "#Choose all predictors except target & IDcols\n",
    "param_test1 = {\n",
    "    'max_depth':range(3,10,2),\n",
    "    'min_child_weight':range(1,6,2)\n",
    "}\n",
    "gsearch1 = GridSearchCV(estimator = XGBClassifier(learning_rate =0.1, n_estimators=140, max_depth=5,\n",
    "                                        min_child_weight=1, gamma=0, subsample=0.8, colsample_bytree=0.8,\n",
    "                                        objective= 'binary:logistic', nthread=4, scale_pos_weight=1, seed=27), \n",
    "                       param_grid = param_test1, scoring='roc_auc',n_jobs=4,iid=False, cv=5)\n",
    "gsearch1.fit(train[predictors],train[target])"
   ]
  },
  {
   "cell_type": "code",
   "execution_count": 46,
   "metadata": {},
   "outputs": [
    {
     "data": {
      "text/plain": [
       "({'mean_fit_time': array([14.24222245, 17.6005764 , 17.41522832, 25.63656793, 27.91909862,\n",
       "         24.8720778 , 33.58058872, 31.30159678, 31.89310198, 48.23801785,\n",
       "         39.94460769, 31.61248097]),\n",
       "  'std_fit_time': array([0.84848   , 2.20432502, 2.36493872, 0.54709807, 1.00921127,\n",
       "         1.12538653, 1.77093191, 0.2981171 , 0.75262713, 1.92341618,\n",
       "         1.11078216, 3.91142949]),\n",
       "  'mean_score_time': array([0.07251692, 0.05158339, 0.06725988, 0.10262523, 0.10306997,\n",
       "         0.07288461, 0.08059764, 0.07386379, 0.09043469, 0.09536872,\n",
       "         0.09020314, 0.07354717]),\n",
       "  'std_score_time': array([0.01172533, 0.00888994, 0.00547816, 0.00905232, 0.01634825,\n",
       "         0.00981888, 0.00533277, 0.00430212, 0.00827926, 0.01312213,\n",
       "         0.01597   , 0.01130213]),\n",
       "  'param_max_depth': masked_array(data=[3, 3, 3, 5, 5, 5, 7, 7, 7, 9, 9, 9],\n",
       "               mask=[False, False, False, False, False, False, False, False,\n",
       "                     False, False, False, False],\n",
       "         fill_value='?',\n",
       "              dtype=object),\n",
       "  'param_min_child_weight': masked_array(data=[1, 3, 5, 1, 3, 5, 1, 3, 5, 1, 3, 5],\n",
       "               mask=[False, False, False, False, False, False, False, False,\n",
       "                     False, False, False, False],\n",
       "         fill_value='?',\n",
       "              dtype=object),\n",
       "  'params': [{'max_depth': 3, 'min_child_weight': 1},\n",
       "   {'max_depth': 3, 'min_child_weight': 3},\n",
       "   {'max_depth': 3, 'min_child_weight': 5},\n",
       "   {'max_depth': 5, 'min_child_weight': 1},\n",
       "   {'max_depth': 5, 'min_child_weight': 3},\n",
       "   {'max_depth': 5, 'min_child_weight': 5},\n",
       "   {'max_depth': 7, 'min_child_weight': 1},\n",
       "   {'max_depth': 7, 'min_child_weight': 3},\n",
       "   {'max_depth': 7, 'min_child_weight': 5},\n",
       "   {'max_depth': 9, 'min_child_weight': 1},\n",
       "   {'max_depth': 9, 'min_child_weight': 3},\n",
       "   {'max_depth': 9, 'min_child_weight': 5}],\n",
       "  'split0_test_score': array([0.87175469, 0.87205284, 0.87350262, 0.83554412, 0.84748147,\n",
       "         0.84357753, 0.8177305 , 0.8290779 , 0.82191461, 0.84166799,\n",
       "         0.8270176 , 0.83217867]),\n",
       "  'split1_test_score': array([0.85720639, 0.85872055, 0.85859027, 0.83973861, 0.83998118,\n",
       "         0.84335319, 0.8371604 , 0.83325255, 0.84088606, 0.84285266,\n",
       "         0.83772015, 0.83879388]),\n",
       "  'split2_test_score': array([0.8604862 , 0.86180112, 0.85838567, 0.84475993, 0.84108508,\n",
       "         0.84971456, 0.83773797, 0.83839059, 0.84240437, 0.85227434,\n",
       "         0.84101103, 0.84718041]),\n",
       "  'split3_test_score': array([0.88665658, 0.88594695, 0.88720791, 0.87913575, 0.88118636,\n",
       "         0.87937301, 0.87420336, 0.87653651, 0.87394601, 0.87287217,\n",
       "         0.87265505, 0.87043121]),\n",
       "  'split4_test_score': array([0.87541459, 0.87528963, 0.87632144, 0.87498386, 0.87565974,\n",
       "         0.87620379, 0.872128  , 0.872576  , 0.87132468, 0.87218912,\n",
       "         0.87210048, 0.86933592]),\n",
       "  'mean_test_score': array([0.87030369, 0.87076222, 0.87080158, 0.85483245, 0.85707877,\n",
       "         0.85844442, 0.84779205, 0.84996671, 0.85009515, 0.85637126,\n",
       "         0.85010086, 0.85158402]),\n",
       "  'std_test_score': array([0.01061665, 0.00977796, 0.0110472 , 0.0184285 , 0.0177012 ,\n",
       "         0.01598988, 0.02194361, 0.02033148, 0.01978714, 0.01369823,\n",
       "         0.01876923, 0.01568371]),\n",
       "  'rank_test_score': array([ 3,  2,  1,  7,  5,  4, 12, 11, 10,  6,  9,  8], dtype=int32)},\n",
       " {'max_depth': 3, 'min_child_weight': 5},\n",
       " 0.8708015819231105)"
      ]
     },
     "execution_count": 46,
     "metadata": {},
     "output_type": "execute_result"
    }
   ],
   "source": [
    "gsearch1.cv_results_, gsearch1.best_params_, gsearch1.best_score_"
   ]
  },
  {
   "cell_type": "code",
   "execution_count": 53,
   "metadata": {},
   "outputs": [
    {
     "data": {
      "text/plain": [
       "GridSearchCV(cv=5, error_score='raise-deprecating',\n",
       "             estimator=XGBClassifier(base_score=0.5, booster='gbtree',\n",
       "                                     colsample_bylevel=1, colsample_bynode=1,\n",
       "                                     colsample_bytree=0.8, gamma=0,\n",
       "                                     learning_rate=0.1, max_delta_step=0,\n",
       "                                     max_depth=3, min_child_weight=5,\n",
       "                                     missing=None, n_estimators=140, n_jobs=1,\n",
       "                                     nthread=4, objective='binary:logistic',\n",
       "                                     random_state=0, reg_alpha=0, reg_lambda=1,\n",
       "                                     scale_pos_weight=1, seed=27, silent=None,\n",
       "                                     subsample=0.8, verbosity=1),\n",
       "             iid=False, n_jobs=4,\n",
       "             param_grid={'max_depth': [2, 3, 4], 'min_child_weight': [4, 5, 6]},\n",
       "             pre_dispatch='2*n_jobs', refit=True, return_train_score=False,\n",
       "             scoring='roc_auc', verbose=0)"
      ]
     },
     "execution_count": 53,
     "metadata": {},
     "output_type": "execute_result"
    }
   ],
   "source": [
    "#Grid seach on subsample and max_features\n",
    "#Choose all predictors except target & IDcols\n",
    "param_test2 = {\n",
    "    'max_depth':[2,3,4],\n",
    "    'min_child_weight':[4,5,6]\n",
    "}\n",
    "gsearch2 = GridSearchCV(estimator = XGBClassifier( learning_rate=0.1, n_estimators=140, max_depth=3,\n",
    "                                        min_child_weight=5, gamma=0, subsample=0.8, colsample_bytree=0.8,\n",
    "                                        objective= 'binary:logistic', nthread=4, scale_pos_weight=1,seed=27), \n",
    "                       param_grid = param_test2, scoring='roc_auc',n_jobs=4,iid=False, cv=5)\n",
    "gsearch2.fit(train[predictors],train[target])"
   ]
  },
  {
   "cell_type": "code",
   "execution_count": 54,
   "metadata": {},
   "outputs": [
    {
     "data": {
      "text/plain": [
       "({'mean_fit_time': array([11.57761059, 12.49404345, 12.00559344, 15.14784336, 15.10985203,\n",
       "         16.17029481, 19.15261283, 19.20824318, 16.80799131]),\n",
       "  'std_fit_time': array([0.63493402, 0.63156137, 0.33969875, 0.13544167, 0.65286522,\n",
       "         0.61170129, 0.40676552, 0.32081508, 3.74550726]),\n",
       "  'mean_score_time': array([0.05096879, 0.04986229, 0.05709934, 0.06138759, 0.05910678,\n",
       "         0.07642837, 0.05737481, 0.06804681, 0.05414805]),\n",
       "  'std_score_time': array([0.00974909, 0.00901911, 0.01270363, 0.00779811, 0.0078625 ,\n",
       "         0.01359282, 0.00564946, 0.01161018, 0.01434291]),\n",
       "  'param_max_depth': masked_array(data=[2, 2, 2, 3, 3, 3, 4, 4, 4],\n",
       "               mask=[False, False, False, False, False, False, False, False,\n",
       "                     False],\n",
       "         fill_value='?',\n",
       "              dtype=object),\n",
       "  'param_min_child_weight': masked_array(data=[4, 5, 6, 4, 5, 6, 4, 5, 6],\n",
       "               mask=[False, False, False, False, False, False, False, False,\n",
       "                     False],\n",
       "         fill_value='?',\n",
       "              dtype=object),\n",
       "  'params': [{'max_depth': 2, 'min_child_weight': 4},\n",
       "   {'max_depth': 2, 'min_child_weight': 5},\n",
       "   {'max_depth': 2, 'min_child_weight': 6},\n",
       "   {'max_depth': 3, 'min_child_weight': 4},\n",
       "   {'max_depth': 3, 'min_child_weight': 5},\n",
       "   {'max_depth': 3, 'min_child_weight': 6},\n",
       "   {'max_depth': 4, 'min_child_weight': 4},\n",
       "   {'max_depth': 4, 'min_child_weight': 5},\n",
       "   {'max_depth': 4, 'min_child_weight': 6}],\n",
       "  'split0_test_score': array([0.88230058, 0.88281738, 0.88281152, 0.87406916, 0.87350262,\n",
       "         0.87432787, 0.8549636 , 0.85662578, 0.85279436]),\n",
       "  'split1_test_score': array([0.87120493, 0.86986593, 0.86954482, 0.85657956, 0.85859027,\n",
       "         0.85750071, 0.84803442, 0.8481978 , 0.85374207]),\n",
       "  'split2_test_score': array([0.8744865 , 0.87683155, 0.87616985, 0.86088933, 0.85838567,\n",
       "         0.85951386, 0.84939644, 0.85540787, 0.85037493]),\n",
       "  'split3_test_score': array([0.88881937, 0.88882983, 0.88901202, 0.88642015, 0.88720791,\n",
       "         0.88774874, 0.88502027, 0.88471488, 0.88348945]),\n",
       "  'split4_test_score': array([0.87638931, 0.87638931, 0.87669138, 0.87499482, 0.87632144,\n",
       "         0.87661044, 0.87567524, 0.87545323, 0.87535889]),\n",
       "  'mean_test_score': array([0.87864014, 0.8789468 , 0.87884592, 0.8705906 , 0.87080158,\n",
       "         0.87114032, 0.862618  , 0.86407991, 0.86315194]),\n",
       "  'std_test_score': array([0.00623886, 0.00642079, 0.00659378, 0.01070043, 0.0110472 ,\n",
       "         0.01128836, 0.01495616, 0.01369791, 0.01357719]),\n",
       "  'rank_test_score': array([3, 1, 2, 6, 5, 4, 9, 7, 8], dtype=int32)},\n",
       " {'max_depth': 2, 'min_child_weight': 5},\n",
       " 0.8789468002282618)"
      ]
     },
     "execution_count": 54,
     "metadata": {},
     "output_type": "execute_result"
    }
   ],
   "source": [
    "gsearch2.cv_results_, gsearch2.best_params_, gsearch2.best_score_"
   ]
  },
  {
   "cell_type": "code",
   "execution_count": 55,
   "metadata": {},
   "outputs": [
    {
     "data": {
      "text/plain": [
       "GridSearchCV(cv=5, error_score='raise-deprecating',\n",
       "             estimator=XGBClassifier(base_score=0.5, booster='gbtree',\n",
       "                                     colsample_bylevel=1, colsample_bynode=1,\n",
       "                                     colsample_bytree=0.8, gamma=0,\n",
       "                                     learning_rate=0.1, max_delta_step=0,\n",
       "                                     max_depth=2, min_child_weight=5,\n",
       "                                     missing=None, n_estimators=140, n_jobs=1,\n",
       "                                     nthread=4, objective='binary:logistic',\n",
       "                                     random_state=0, reg_alpha=0, reg_lambda=1,\n",
       "                                     scale_pos_weight=1, seed=27, silent=None,\n",
       "                                     subsample=0.8, verbosity=1),\n",
       "             iid=False, n_jobs=4, param_grid={'max_depth': [0, 1, 2]},\n",
       "             pre_dispatch='2*n_jobs', refit=True, return_train_score=False,\n",
       "             scoring='roc_auc', verbose=0)"
      ]
     },
     "execution_count": 55,
     "metadata": {},
     "output_type": "execute_result"
    }
   ],
   "source": [
    "#Grid seach on subsample and max_features\n",
    "#Choose all predictors except target & IDcols\n",
    "param_test2b = {\n",
    "    'max_depth':[0,1,2]\n",
    "}\n",
    "gsearch2b = GridSearchCV(estimator = XGBClassifier(learning_rate=0.1, n_estimators=140, max_depth=2,\n",
    "                                        min_child_weight=5, gamma=0, subsample=0.8, colsample_bytree=0.8,\n",
    "                                        objective= 'binary:logistic', nthread=4, scale_pos_weight=1,seed=27), \n",
    "                       param_grid = param_test2b, scoring='roc_auc',n_jobs=4,iid=False, cv=5)\n",
    "gsearch2b.fit(train[predictors],train[target])"
   ]
  },
  {
   "cell_type": "code",
   "execution_count": 56,
   "metadata": {},
   "outputs": [
    {
     "data": {
      "text/plain": [
       "({'mean_fit_time': array([ 6.32777004,  9.64102149, 10.73623071]),\n",
       "  'std_fit_time': array([0.26143351, 0.2438386 , 1.75747619]),\n",
       "  'mean_score_time': array([0.03715806, 0.0514833 , 0.05346179]),\n",
       "  'std_score_time': array([0.00649536, 0.00936614, 0.02825   ]),\n",
       "  'param_max_depth': masked_array(data=[0, 1, 2],\n",
       "               mask=[False, False, False],\n",
       "         fill_value='?',\n",
       "              dtype=object),\n",
       "  'params': [{'max_depth': 0}, {'max_depth': 1}, {'max_depth': 2}],\n",
       "  'split0_test_score': array([0.5       , 0.88282673, 0.88281738]),\n",
       "  'split1_test_score': array([0.5       , 0.88270661, 0.86986593]),\n",
       "  'split2_test_score': array([0.5       , 0.88249032, 0.87683155]),\n",
       "  'split3_test_score': array([0.5       , 0.88487848, 0.88882983]),\n",
       "  'split4_test_score': array([0.5       , 0.8743107 , 0.87638931]),\n",
       "  'mean_test_score': array([0.5       , 0.88144257, 0.8789468 ]),\n",
       "  'std_test_score': array([0.        , 0.00366826, 0.00642079]),\n",
       "  'rank_test_score': array([3, 1, 2], dtype=int32)},\n",
       " {'max_depth': 1},\n",
       " 0.8814425672800812)"
      ]
     },
     "execution_count": 56,
     "metadata": {},
     "output_type": "execute_result"
    }
   ],
   "source": [
    "gsearch2b.cv_results_, gsearch2b.best_params_, gsearch2b.best_score_"
   ]
  },
  {
   "cell_type": "code",
   "execution_count": 57,
   "metadata": {},
   "outputs": [
    {
     "data": {
      "text/plain": [
       "GridSearchCV(cv=5, error_score='raise-deprecating',\n",
       "             estimator=XGBClassifier(base_score=0.5, booster='gbtree',\n",
       "                                     colsample_bylevel=1, colsample_bynode=1,\n",
       "                                     colsample_bytree=0.8, gamma=0,\n",
       "                                     learning_rate=0.1, max_delta_step=0,\n",
       "                                     max_depth=1, min_child_weight=5,\n",
       "                                     missing=None, n_estimators=140, n_jobs=1,\n",
       "                                     nthread=4, objective='binary:logistic',\n",
       "                                     random_state=0, reg_alpha=0, reg_lambda=1,\n",
       "                                     scale_pos_weight=1, seed=27, silent=None,\n",
       "                                     subsample=0.8, verbosity=1),\n",
       "             iid=False, n_jobs=4,\n",
       "             param_grid={'gamma': [0.0, 0.1, 0.2, 0.3, 0.4]},\n",
       "             pre_dispatch='2*n_jobs', refit=True, return_train_score=False,\n",
       "             scoring='roc_auc', verbose=0)"
      ]
     },
     "execution_count": 57,
     "metadata": {},
     "output_type": "execute_result"
    }
   ],
   "source": [
    "#Grid seach on subsample and max_features\n",
    "#Choose all predictors except target & IDcols\n",
    "param_test3 = {\n",
    "    'gamma':[i/10.0 for i in range(0,5)]\n",
    "}\n",
    "gsearch3 = GridSearchCV(estimator = XGBClassifier( learning_rate =0.1, n_estimators=140, max_depth=1,\n",
    "                                        min_child_weight=5, gamma=0, subsample=0.8, colsample_bytree=0.8,\n",
    "                                        objective= 'binary:logistic', nthread=4, scale_pos_weight=1,seed=27), \n",
    "                       param_grid = param_test3, scoring='roc_auc',n_jobs=4,iid=False, cv=5)\n",
    "gsearch3.fit(train[predictors],train[target])"
   ]
  },
  {
   "cell_type": "code",
   "execution_count": 58,
   "metadata": {},
   "outputs": [
    {
     "data": {
      "text/plain": [
       "({'mean_fit_time': array([ 9.84545927,  9.76137877, 10.33060527,  9.992415  ,  8.26644478]),\n",
       "  'std_fit_time': array([0.07794597, 0.21256616, 0.31189413, 0.40057946, 2.21602391]),\n",
       "  'mean_score_time': array([0.0509254 , 0.05019951, 0.05289888, 0.04591117, 0.04845438]),\n",
       "  'std_score_time': array([0.00982792, 0.00561518, 0.00706072, 0.00526734, 0.01620373]),\n",
       "  'param_gamma': masked_array(data=[0.0, 0.1, 0.2, 0.3, 0.4],\n",
       "               mask=[False, False, False, False, False],\n",
       "         fill_value='?',\n",
       "              dtype=object),\n",
       "  'params': [{'gamma': 0.0},\n",
       "   {'gamma': 0.1},\n",
       "   {'gamma': 0.2},\n",
       "   {'gamma': 0.3},\n",
       "   {'gamma': 0.4}],\n",
       "  'split0_test_score': array([0.88282673, 0.88282673, 0.88282673, 0.88282673, 0.88282673]),\n",
       "  'split1_test_score': array([0.88270661, 0.88270661, 0.88270661, 0.88270661, 0.88270661]),\n",
       "  'split2_test_score': array([0.88249032, 0.88249032, 0.88249032, 0.88249032, 0.88249032]),\n",
       "  'split3_test_score': array([0.88487848, 0.88487848, 0.88487848, 0.88487848, 0.88487848]),\n",
       "  'split4_test_score': array([0.8743107, 0.8743107, 0.8743107, 0.8743107, 0.8743107]),\n",
       "  'mean_test_score': array([0.88144257, 0.88144257, 0.88144257, 0.88144257, 0.88144257]),\n",
       "  'std_test_score': array([0.00366826, 0.00366826, 0.00366826, 0.00366826, 0.00366826]),\n",
       "  'rank_test_score': array([1, 1, 1, 1, 1], dtype=int32)},\n",
       " {'gamma': 0.0},\n",
       " 0.8814425672800812)"
      ]
     },
     "execution_count": 58,
     "metadata": {},
     "output_type": "execute_result"
    }
   ],
   "source": [
    "gsearch3.cv_results_, gsearch3.best_params_, gsearch3.best_score_"
   ]
  },
  {
   "cell_type": "code",
   "execution_count": 60,
   "metadata": {},
   "outputs": [
    {
     "name": "stdout",
     "output_type": "stream",
     "text": [
      "\n",
      "Model Report\n",
      "Accuracy : 0.8142\n",
      "AUC Score (Train): 0.893269\n"
     ]
    }
   ],
   "source": [
    "predictors = [x for x in train.columns if x not in [target, IDcol]]\n",
    "xgb2 = XGBClassifier(\n",
    "        learning_rate =0.1,\n",
    "        n_estimators=1000,\n",
    "        max_depth=1,\n",
    "        min_child_weight=5,\n",
    "        gamma=0,\n",
    "        subsample=0.8,\n",
    "        colsample_bytree=0.8,\n",
    "        objective= 'binary:logistic',\n",
    "        nthread=4,\n",
    "        scale_pos_weight=1,\n",
    "        seed=27)\n",
    "modelfit(xgb2, train, predictors)"
   ]
  },
  {
   "cell_type": "code",
   "execution_count": 66,
   "metadata": {},
   "outputs": [
    {
     "data": {
      "text/plain": [
       "GridSearchCV(cv=5, error_score='raise-deprecating',\n",
       "             estimator=XGBClassifier(base_score=0.5, booster='gbtree',\n",
       "                                     colsample_bylevel=1, colsample_bynode=1,\n",
       "                                     colsample_bytree=0.8, gamma=0,\n",
       "                                     learning_rate=0.1, max_delta_step=0,\n",
       "                                     max_depth=1, min_child_weight=5,\n",
       "                                     missing=None, n_estimators=177, n_jobs=1,\n",
       "                                     nthread=4, objective='binary:logistic',\n",
       "                                     random_state=0, reg_alpha=0, reg_lambda=1,\n",
       "                                     scale_pos_weight=1, seed=27, silent=None,\n",
       "                                     subsample=0.8, verbosity=1),\n",
       "             iid=False, n_jobs=4,\n",
       "             param_grid={'colsample_bytree': [0.6, 0.7, 0.8, 0.9],\n",
       "                         'subsample': [0.6, 0.7, 0.8, 0.9]},\n",
       "             pre_dispatch='2*n_jobs', refit=True, return_train_score=False,\n",
       "             scoring='roc_auc', verbose=0)"
      ]
     },
     "execution_count": 66,
     "metadata": {},
     "output_type": "execute_result"
    }
   ],
   "source": [
    "#Grid seach on subsample and max_features\n",
    "#Choose all predictors except target & IDcols\n",
    "param_test4 = {\n",
    "    'subsample':[i/10.0 for i in range(6,10)],\n",
    "    'colsample_bytree':[i/10.0 for i in range(6,10)]\n",
    "}\n",
    "gsearch4 = GridSearchCV(estimator = XGBClassifier( learning_rate =0.1, n_estimators=177, max_depth=1,\n",
    "                                        min_child_weight=5, gamma=0, subsample=0.8, colsample_bytree=0.8,\n",
    "                                        objective= 'binary:logistic', nthread=4, scale_pos_weight=1,seed=27), \n",
    "                       param_grid = param_test4, scoring='roc_auc',n_jobs=4,iid=False, cv=5)\n",
    "gsearch4.fit(train[predictors],train[target])"
   ]
  },
  {
   "cell_type": "code",
   "execution_count": 67,
   "metadata": {},
   "outputs": [
    {
     "data": {
      "text/plain": [
       "({'mean_fit_time': array([11.32246232, 11.55308967, 10.78902826, 10.61598339, 11.03696179,\n",
       "         11.51403232, 12.21637797, 11.60277028, 11.45039744, 11.5721602 ,\n",
       "         11.65476246, 11.64009004, 11.89943318, 11.72174921, 11.85921111,\n",
       "         11.23708477]),\n",
       "  'std_fit_time': array([0.41330216, 0.3450292 , 0.33802886, 0.09166191, 0.14112365,\n",
       "         0.71484403, 0.52069879, 0.44845986, 0.12669287, 0.20156257,\n",
       "         0.28551442, 0.12283506, 0.16015256, 0.12315902, 0.28207997,\n",
       "         0.65339656]),\n",
       "  'mean_score_time': array([0.06078501, 0.04732313, 0.04676313, 0.0499083 , 0.04930205,\n",
       "         0.04892788, 0.04650269, 0.05369954, 0.05110855, 0.04905586,\n",
       "         0.05248961, 0.0469327 , 0.05641222, 0.05223784, 0.04844356,\n",
       "         0.04159679]),\n",
       "  'std_score_time': array([0.01031121, 0.00565101, 0.006829  , 0.00618294, 0.00615083,\n",
       "         0.00831258, 0.00785074, 0.00438661, 0.0040164 , 0.00404465,\n",
       "         0.00861751, 0.00447739, 0.00718456, 0.0014958 , 0.00609549,\n",
       "         0.01387921]),\n",
       "  'param_colsample_bytree': masked_array(data=[0.6, 0.6, 0.6, 0.6, 0.7, 0.7, 0.7, 0.7, 0.8, 0.8, 0.8,\n",
       "                     0.8, 0.9, 0.9, 0.9, 0.9],\n",
       "               mask=[False, False, False, False, False, False, False, False,\n",
       "                     False, False, False, False, False, False, False, False],\n",
       "         fill_value='?',\n",
       "              dtype=object),\n",
       "  'param_subsample': masked_array(data=[0.6, 0.7, 0.8, 0.9, 0.6, 0.7, 0.8, 0.9, 0.6, 0.7, 0.8,\n",
       "                     0.9, 0.6, 0.7, 0.8, 0.9],\n",
       "               mask=[False, False, False, False, False, False, False, False,\n",
       "                     False, False, False, False, False, False, False, False],\n",
       "         fill_value='?',\n",
       "              dtype=object),\n",
       "  'params': [{'colsample_bytree': 0.6, 'subsample': 0.6},\n",
       "   {'colsample_bytree': 0.6, 'subsample': 0.7},\n",
       "   {'colsample_bytree': 0.6, 'subsample': 0.8},\n",
       "   {'colsample_bytree': 0.6, 'subsample': 0.9},\n",
       "   {'colsample_bytree': 0.7, 'subsample': 0.6},\n",
       "   {'colsample_bytree': 0.7, 'subsample': 0.7},\n",
       "   {'colsample_bytree': 0.7, 'subsample': 0.8},\n",
       "   {'colsample_bytree': 0.7, 'subsample': 0.9},\n",
       "   {'colsample_bytree': 0.8, 'subsample': 0.6},\n",
       "   {'colsample_bytree': 0.8, 'subsample': 0.7},\n",
       "   {'colsample_bytree': 0.8, 'subsample': 0.8},\n",
       "   {'colsample_bytree': 0.8, 'subsample': 0.9},\n",
       "   {'colsample_bytree': 0.9, 'subsample': 0.6},\n",
       "   {'colsample_bytree': 0.9, 'subsample': 0.7},\n",
       "   {'colsample_bytree': 0.9, 'subsample': 0.8},\n",
       "   {'colsample_bytree': 0.9, 'subsample': 0.9}],\n",
       "  'split0_test_score': array([0.88416856, 0.88476897, 0.88423224, 0.88446943, 0.88424436,\n",
       "         0.88462241, 0.88452061, 0.88443402, 0.88450395, 0.88446755,\n",
       "         0.88425714, 0.88442733, 0.88429067, 0.88438163, 0.88429427,\n",
       "         0.8844198 ]),\n",
       "  'split1_test_score': array([0.88183975, 0.88263079, 0.88133053, 0.88133545, 0.88202095,\n",
       "         0.88282565, 0.88067221, 0.8814416 , 0.8822876 , 0.8826304 ,\n",
       "         0.88141039, 0.8813675 , 0.88103671, 0.88172962, 0.88115592,\n",
       "         0.88124607]),\n",
       "  'split2_test_score': array([0.88130928, 0.88331556, 0.88301133, 0.88336631, 0.88108342,\n",
       "         0.88325058, 0.88375826, 0.88350993, 0.88236718, 0.88336293,\n",
       "         0.88323238, 0.883665  , 0.88259005, 0.88233669, 0.88378621,\n",
       "         0.88436001]),\n",
       "  'split3_test_score': array([0.88643177, 0.88724577, 0.88605559, 0.8868298 , 0.88663261,\n",
       "         0.88698609, 0.886474  , 0.88658424, 0.88617741, 0.8863886 ,\n",
       "         0.88648141, 0.88639662, 0.88655281, 0.88631106, 0.88631466,\n",
       "         0.88636956]),\n",
       "  'split4_test_score': array([0.87456974, 0.87456825, 0.87518406, 0.87511762, 0.87540357,\n",
       "         0.87507504, 0.87538215, 0.87519546, 0.87550262, 0.87511037,\n",
       "         0.87521445, 0.87506608, 0.8750452 , 0.87486544, 0.87543673,\n",
       "         0.87508999]),\n",
       "  'mean_test_score': array([0.88166382, 0.88250587, 0.88196275, 0.88222372, 0.88187698,\n",
       "         0.88255196, 0.88216144, 0.88223305, 0.88216775, 0.88239197,\n",
       "         0.88211915, 0.88218451, 0.88190309, 0.88192489, 0.88219756,\n",
       "         0.88229709]),\n",
       "  'std_test_score': array([0.00398722, 0.00427236, 0.0037243 , 0.00397116, 0.00376234,\n",
       "         0.00401038, 0.00387015, 0.00388746, 0.00363355, 0.00385493,\n",
       "         0.00382144, 0.0039065 , 0.00388776, 0.00388118, 0.00375937,\n",
       "         0.00395963]),\n",
       "  'rank_test_score': array([16,  2, 12,  6, 15,  1, 10,  5,  9,  3, 11,  8, 14, 13,  7,  4],\n",
       "        dtype=int32)},\n",
       " {'colsample_bytree': 0.7, 'subsample': 0.7},\n",
       " 0.8825519566353499)"
      ]
     },
     "execution_count": 67,
     "metadata": {},
     "output_type": "execute_result"
    }
   ],
   "source": [
    "gsearch4.cv_results_, gsearch4.best_params_, gsearch4.best_score_"
   ]
  },
  {
   "cell_type": "code",
   "execution_count": 68,
   "metadata": {},
   "outputs": [
    {
     "data": {
      "text/plain": [
       "GridSearchCV(cv=5, error_score='raise-deprecating',\n",
       "             estimator=XGBClassifier(base_score=0.5, booster='gbtree',\n",
       "                                     colsample_bylevel=1, colsample_bynode=1,\n",
       "                                     colsample_bytree=0.7, gamma=0,\n",
       "                                     learning_rate=0.1, max_delta_step=0,\n",
       "                                     max_depth=1, min_child_weight=5,\n",
       "                                     missing=None, n_estimators=177, n_jobs=1,\n",
       "                                     nthread=4, objective='binary:logistic',\n",
       "                                     random_state=0, reg_alpha=0, reg_lambda=1,\n",
       "                                     scale_pos_weight=1, seed=27, silent=None,\n",
       "                                     subsample=0.7, verbosity=1),\n",
       "             iid=False, n_jobs=4,\n",
       "             param_grid={'colsample_bytree': [0.75, 0.8, 0.85],\n",
       "                         'subsample': [0.65]},\n",
       "             pre_dispatch='2*n_jobs', refit=True, return_train_score=False,\n",
       "             scoring='roc_auc', verbose=0)"
      ]
     },
     "execution_count": 68,
     "metadata": {},
     "output_type": "execute_result"
    }
   ],
   "source": [
    "#Grid seach on subsample and max_features\n",
    "#Choose all predictors except target & IDcols\n",
    "param_test5 = {\n",
    "    'subsample':[i/100.0 for i in range(65,70,75)],\n",
    "    'colsample_bytree':[i/100.0 for i in range(75,90,5)]\n",
    "}\n",
    "gsearch5 = GridSearchCV(estimator = XGBClassifier( learning_rate =0.1, n_estimators=177, max_depth=1,\n",
    "                                        min_child_weight=5, gamma=0, subsample=0.7, colsample_bytree=0.7,\n",
    "                                        objective= 'binary:logistic', nthread=4, scale_pos_weight=1,seed=27), \n",
    "                       param_grid = param_test5, scoring='roc_auc',n_jobs=4,iid=False, cv=5)\n",
    "gsearch5.fit(train[predictors],train[target])"
   ]
  },
  {
   "cell_type": "code",
   "execution_count": 69,
   "metadata": {},
   "outputs": [
    {
     "data": {
      "text/plain": [
       "({'mean_fit_time': array([11.12821074, 11.11572275, 10.04558663]),\n",
       "  'std_fit_time': array([0.09379027, 0.07743027, 1.05270076]),\n",
       "  'mean_score_time': array([0.04390368, 0.04314208, 0.04056883]),\n",
       "  'std_score_time': array([0.0069731 , 0.00856977, 0.01005406]),\n",
       "  'param_colsample_bytree': masked_array(data=[0.75, 0.8, 0.85],\n",
       "               mask=[False, False, False],\n",
       "         fill_value='?',\n",
       "              dtype=object),\n",
       "  'param_subsample': masked_array(data=[0.65, 0.65, 0.65],\n",
       "               mask=[False, False, False],\n",
       "         fill_value='?',\n",
       "              dtype=object),\n",
       "  'params': [{'colsample_bytree': 0.75, 'subsample': 0.65},\n",
       "   {'colsample_bytree': 0.8, 'subsample': 0.65},\n",
       "   {'colsample_bytree': 0.85, 'subsample': 0.65}],\n",
       "  'split0_test_score': array([0.88444608, 0.88449626, 0.88456382]),\n",
       "  'split1_test_score': array([0.8812816 , 0.8819262 , 0.88178086]),\n",
       "  'split2_test_score': array([0.88314549, 0.88301349, 0.88243686]),\n",
       "  'split3_test_score': array([0.88658253, 0.8864197 , 0.88647975]),\n",
       "  'split4_test_score': array([0.87559524, 0.87512603, 0.87519673]),\n",
       "  'mean_test_score': array([0.88221019, 0.88219634, 0.8820916 ]),\n",
       "  'std_test_score': array([0.00373125, 0.00384334, 0.0038242 ]),\n",
       "  'rank_test_score': array([1, 2, 3], dtype=int32)},\n",
       " {'colsample_bytree': 0.75, 'subsample': 0.65},\n",
       " 0.882210187234864)"
      ]
     },
     "execution_count": 69,
     "metadata": {},
     "output_type": "execute_result"
    }
   ],
   "source": [
    "gsearch5.cv_results_, gsearch5.best_params_, gsearch5.best_score_"
   ]
  },
  {
   "cell_type": "code",
   "execution_count": 74,
   "metadata": {},
   "outputs": [
    {
     "data": {
      "text/plain": [
       "GridSearchCV(cv=5, error_score='raise-deprecating',\n",
       "             estimator=XGBClassifier(base_score=0.5, booster='gbtree',\n",
       "                                     colsample_bylevel=1, colsample_bynode=1,\n",
       "                                     colsample_bytree=0.75, gamma=0.1,\n",
       "                                     learning_rate=0.1, max_delta_step=0,\n",
       "                                     max_depth=1, min_child_weight=5,\n",
       "                                     missing=None, n_estimators=177, n_jobs=1,\n",
       "                                     nthread=4, objective='binary:logistic',\n",
       "                                     random_state=0, reg_alpha=0, reg_lambda=1,\n",
       "                                     scale_pos_weight=1, seed=27, silent=None,\n",
       "                                     subsample=0.65, verbosity=1),\n",
       "             iid=False, n_jobs=4,\n",
       "             param_grid={'reg_alpha': [0.0001, 0.01, 0.1, 1, 100]},\n",
       "             pre_dispatch='2*n_jobs', refit=True, return_train_score=False,\n",
       "             scoring='roc_auc', verbose=0)"
      ]
     },
     "execution_count": 74,
     "metadata": {},
     "output_type": "execute_result"
    }
   ],
   "source": [
    "#Choose all predictors except target & IDcols\n",
    "param_test6 = {\n",
    "    'reg_alpha':[1e-4, 1e-2, 0.1, 1, 100]\n",
    "}\n",
    "gsearch6 = GridSearchCV(estimator = XGBClassifier( learning_rate =0.1, n_estimators=177, max_depth=1,\n",
    "                                        min_child_weight=5, gamma=0.1, subsample=0.65, colsample_bytree=0.75,\n",
    "                                        objective= 'binary:logistic', nthread=4, scale_pos_weight=1,seed=27), \n",
    "                       param_grid = param_test6, scoring='roc_auc',n_jobs=4,iid=False, cv=5)\n",
    "gsearch6.fit(train[predictors],train[target])"
   ]
  },
  {
   "cell_type": "code",
   "execution_count": 75,
   "metadata": {},
   "outputs": [
    {
     "data": {
      "text/plain": [
       "({'mean_fit_time': array([11.26054358, 11.16565514, 11.09863515, 11.77155719, 10.6511538 ]),\n",
       "  'std_fit_time': array([0.20077599, 0.20496782, 0.01976374, 0.32941821, 3.36838726]),\n",
       "  'mean_score_time': array([0.04819999, 0.04483891, 0.04131308, 0.05823159, 0.04000125]),\n",
       "  'std_score_time': array([0.00787902, 0.00425001, 0.00547024, 0.00901771, 0.00890767]),\n",
       "  'param_reg_alpha': masked_array(data=[0.0001, 0.01, 0.1, 1, 100],\n",
       "               mask=[False, False, False, False, False],\n",
       "         fill_value='?',\n",
       "              dtype=object),\n",
       "  'params': [{'reg_alpha': 0.0001},\n",
       "   {'reg_alpha': 0.01},\n",
       "   {'reg_alpha': 0.1},\n",
       "   {'reg_alpha': 1},\n",
       "   {'reg_alpha': 100}],\n",
       "  'split0_test_score': array([0.88444608, 0.8844458 , 0.8844421 , 0.88436613, 0.87837361]),\n",
       "  'split1_test_score': array([0.8812816 , 0.88128144, 0.88128293, 0.88158301, 0.8802962 ]),\n",
       "  'split2_test_score': array([0.88314543, 0.88314554, 0.88220879, 0.88205332, 0.87769392]),\n",
       "  'split3_test_score': array([0.88658247, 0.88658164, 0.88671651, 0.88659304, 0.88133213]),\n",
       "  'split4_test_score': array([0.87559524, 0.87559491, 0.87559336, 0.87550372, 0.870784  ]),\n",
       "  'mean_test_score': array([0.88221017, 0.88220987, 0.88204874, 0.88201985, 0.87769597]),\n",
       "  'std_test_score': array([0.00373123, 0.00373114, 0.00373632, 0.00371675, 0.00369371]),\n",
       "  'rank_test_score': array([1, 2, 3, 4, 5], dtype=int32)},\n",
       " {'reg_alpha': 0.0001},\n",
       " 0.8822101650971952)"
      ]
     },
     "execution_count": 75,
     "metadata": {},
     "output_type": "execute_result"
    }
   ],
   "source": [
    "gsearch6.cv_results_, gsearch6.best_params_, gsearch6.best_score_"
   ]
  },
  {
   "cell_type": "code",
   "execution_count": 76,
   "metadata": {},
   "outputs": [
    {
     "data": {
      "text/plain": [
       "GridSearchCV(cv=5, error_score='raise-deprecating',\n",
       "             estimator=XGBClassifier(base_score=0.5, booster='gbtree',\n",
       "                                     colsample_bylevel=1, colsample_bynode=1,\n",
       "                                     colsample_bytree=0.75, gamma=0.1,\n",
       "                                     learning_rate=0.1, max_delta_step=0,\n",
       "                                     max_depth=1, min_child_weight=5,\n",
       "                                     missing=None, n_estimators=177, n_jobs=1,\n",
       "                                     nthread=4, objective='binary:logistic',\n",
       "                                     random_state=0, reg_alpha=0, reg_lambda=1,\n",
       "                                     scale_pos_weight=1, seed=27, silent=None,\n",
       "                                     subsample=0.65, verbosity=1),\n",
       "             iid=False, n_jobs=4,\n",
       "             param_grid={'reg_alpha': [0.0001, 0.01, 0.1, 1, 100]},\n",
       "             pre_dispatch='2*n_jobs', refit=True, return_train_score=False,\n",
       "             scoring='roc_auc', verbose=0)"
      ]
     },
     "execution_count": 76,
     "metadata": {},
     "output_type": "execute_result"
    }
   ],
   "source": [
    "#Choose all predictors except target & IDcols\n",
    "param_test7 = {\n",
    "    'reg_alpha':[0, 0.00005, 0.0001, 0.0005]\n",
    "}\n",
    "gsearch7 = GridSearchCV(estimator = XGBClassifier( learning_rate =0.1, n_estimators=177, max_depth=1,\n",
    "                                        min_child_weight=5, gamma=0.1, subsample=0.65, colsample_bytree=0.75,\n",
    "                                        objective= 'binary:logistic', nthread=4, scale_pos_weight=1,seed=27), \n",
    "                       param_grid = param_test6, scoring='roc_auc',n_jobs=4,iid=False, cv=5)\n",
    "gsearch7.fit(train[predictors],train[target])"
   ]
  },
  {
   "cell_type": "code",
   "execution_count": 77,
   "metadata": {},
   "outputs": [
    {
     "data": {
      "text/plain": [
       "({'mean_fit_time': array([11.01151104, 11.7058321 , 11.258599  , 11.3101615 ,  9.74905853]),\n",
       "  'std_fit_time': array([0.47963707, 0.49729245, 0.16048399, 0.2508943 , 3.08681004]),\n",
       "  'mean_score_time': array([0.04528999, 0.04539165, 0.04513369, 0.05306954, 0.03873973]),\n",
       "  'std_score_time': array([0.00381057, 0.0037677 , 0.00583503, 0.00792433, 0.01019029]),\n",
       "  'param_reg_alpha': masked_array(data=[0.0001, 0.01, 0.1, 1, 100],\n",
       "               mask=[False, False, False, False, False],\n",
       "         fill_value='?',\n",
       "              dtype=object),\n",
       "  'params': [{'reg_alpha': 0.0001},\n",
       "   {'reg_alpha': 0.01},\n",
       "   {'reg_alpha': 0.1},\n",
       "   {'reg_alpha': 1},\n",
       "   {'reg_alpha': 100}],\n",
       "  'split0_test_score': array([0.88444608, 0.8844458 , 0.8844421 , 0.88436613, 0.87837361]),\n",
       "  'split1_test_score': array([0.8812816 , 0.88128144, 0.88128293, 0.88158301, 0.8802962 ]),\n",
       "  'split2_test_score': array([0.88314543, 0.88314554, 0.88220879, 0.88205332, 0.87769392]),\n",
       "  'split3_test_score': array([0.88658247, 0.88658164, 0.88671651, 0.88659304, 0.88133213]),\n",
       "  'split4_test_score': array([0.87559524, 0.87559491, 0.87559336, 0.87550372, 0.870784  ]),\n",
       "  'mean_test_score': array([0.88221017, 0.88220987, 0.88204874, 0.88201985, 0.87769597]),\n",
       "  'std_test_score': array([0.00373123, 0.00373114, 0.00373632, 0.00371675, 0.00369371]),\n",
       "  'rank_test_score': array([1, 2, 3, 4, 5], dtype=int32)},\n",
       " {'reg_alpha': 0.0001},\n",
       " 0.8822101650971952)"
      ]
     },
     "execution_count": 77,
     "metadata": {},
     "output_type": "execute_result"
    }
   ],
   "source": [
    "gsearch7.cv_results_, gsearch7.best_params_, gsearch7.best_score_"
   ]
  },
  {
   "cell_type": "code",
   "execution_count": 78,
   "metadata": {},
   "outputs": [
    {
     "name": "stdout",
     "output_type": "stream",
     "text": [
      "\n",
      "Model Report\n",
      "Accuracy : 0.8136\n",
      "AUC Score (Train): 0.893085\n"
     ]
    }
   ],
   "source": [
    "xgb3 = XGBClassifier(\n",
    "        learning_rate =0.1,\n",
    "        n_estimators=1000,\n",
    "        max_depth=1,\n",
    "        min_child_weight=5,\n",
    "        gamma=0,\n",
    "        subsample=0.65,\n",
    "        colsample_bytree=0.75,\n",
    "        reg_alpha=0.0001,\n",
    "        objective= 'binary:logistic',\n",
    "        nthread=4,\n",
    "        scale_pos_weight=1,\n",
    "        seed=27)\n",
    "modelfit(xgb3, train, predictors)"
   ]
  },
  {
   "cell_type": "code",
   "execution_count": 79,
   "metadata": {},
   "outputs": [
    {
     "name": "stdout",
     "output_type": "stream",
     "text": [
      "\n",
      "Model Report\n",
      "Accuracy : 0.8136\n",
      "AUC Score (Train): 0.893085\n"
     ]
    }
   ],
   "source": [
    "xgb4 = XGBClassifier(\n",
    "        learning_rate =0.1,\n",
    "        n_estimators=5000,\n",
    "        max_depth=1,\n",
    "        min_child_weight=5,\n",
    "        gamma=0,\n",
    "        subsample=0.65,\n",
    "        colsample_bytree=0.75,\n",
    "        reg_alpha=0.0001,\n",
    "        objective= 'binary:logistic',\n",
    "        nthread=4,\n",
    "        scale_pos_weight=1,\n",
    "        seed=27)\n",
    "modelfit(xgb4, train, predictors)"
   ]
  },
  {
   "cell_type": "code",
   "execution_count": 82,
   "metadata": {},
   "outputs": [],
   "source": [
    "gbm = xgb.XGBClassifier(\n",
    "        learning_rate =0.1,\n",
    "        n_estimators=5000,\n",
    "        max_depth=1,\n",
    "        min_child_weight=5,\n",
    "        gamma=0,\n",
    "        subsample=0.65,\n",
    "        colsample_bytree=0.75,\n",
    "        reg_alpha=0.0001,\n",
    "        objective= 'binary:logistic',\n",
    "        nthread=4,\n",
    "        scale_pos_weight=1,\n",
    "        seed=27)"
   ]
  },
  {
   "cell_type": "code",
   "execution_count": 84,
   "metadata": {},
   "outputs": [],
   "source": [
    "tr_X = train.drop(['id','satisfied'],axis=1)\n",
    "tr_y = train['satisfied']"
   ]
  },
  {
   "cell_type": "code",
   "execution_count": 85,
   "metadata": {},
   "outputs": [
    {
     "data": {
      "text/plain": [
       "XGBClassifier(base_score=0.5, booster='gbtree', colsample_bylevel=1,\n",
       "              colsample_bynode=1, colsample_bytree=0.75, gamma=0,\n",
       "              learning_rate=0.1, max_delta_step=0, max_depth=1,\n",
       "              min_child_weight=5, missing=None, n_estimators=5000, n_jobs=1,\n",
       "              nthread=4, objective='binary:logistic', random_state=0,\n",
       "              reg_alpha=0.0001, reg_lambda=1, scale_pos_weight=1, seed=27,\n",
       "              silent=None, subsample=0.65, verbosity=1)"
      ]
     },
     "execution_count": 85,
     "metadata": {},
     "output_type": "execute_result"
    }
   ],
   "source": [
    "gbm.fit(tr_X, tr_y)"
   ]
  },
  {
   "cell_type": "code",
   "execution_count": 90,
   "metadata": {},
   "outputs": [],
   "source": [
    "test_X = test.drop('id',axis=1)\n",
    "predictions = gbm.predict(test_X)"
   ]
  },
  {
   "cell_type": "code",
   "execution_count": 92,
   "metadata": {},
   "outputs": [],
   "source": [
    "submission = pd.DataFrame({'id': test['id'],\n",
    "                            'Predicted': predictions})\n",
    "submission.to_csv(\"submission.csv\", index=False)"
   ]
  },
  {
   "cell_type": "code",
   "execution_count": null,
   "metadata": {},
   "outputs": [],
   "source": []
  }
 ],
 "metadata": {
  "kernelspec": {
   "display_name": "Python 3",
   "language": "python",
   "name": "python3"
  },
  "language_info": {
   "codemirror_mode": {
    "name": "ipython",
    "version": 3
   },
   "file_extension": ".py",
   "mimetype": "text/x-python",
   "name": "python",
   "nbconvert_exporter": "python",
   "pygments_lexer": "ipython3",
   "version": "3.7.4"
  }
 },
 "nbformat": 4,
 "nbformat_minor": 2
}
